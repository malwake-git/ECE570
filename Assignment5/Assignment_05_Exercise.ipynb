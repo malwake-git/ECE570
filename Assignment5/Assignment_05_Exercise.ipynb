{
 "cells": [
  {
   "cell_type": "markdown",
   "metadata": {
    "id": "zmwWs4S9cRIn"
   },
   "source": [
    "# ECE 57000 Assignment 5 Exercise\n",
    "\n",
    "Your Name: Mohmmad Alwakeel"
   ]
  },
  {
   "cell_type": "markdown",
   "metadata": {
    "id": "WfirXJR3qvB0"
   },
   "source": [
    "For this assignment, you will implement and explore various density estimation methods."
   ]
  },
  {
   "cell_type": "markdown",
   "metadata": {
    "id": "Vmlsa88cqmib"
   },
   "source": [
    "## Exercise 1: Density estimation in 1D\n",
    "In this exercise, you will write code to estimate 1D densities.\n",
    "Specifically, you will write code to estimate a Gaussian density, a histogram density, and a kernel density."
   ]
  },
  {
   "cell_type": "markdown",
   "metadata": {},
   "source": [
    "### Task 1.1: Gaussian density\n",
    "For this first one you will estimate a Gaussian density via MLE.\n",
    "As discussed in class, this simplifies to estimating the mean and standard devaition of the data and using these empirical estimates for the Gaussian distribution.\n",
    "The Gaussian PDF can be evaluated using the function [`scipy.stats.norm.pdf`](https://docs.scipy.org/doc/scipy/reference/generated/scipy.stats.norm.html)."
   ]
  },
  {
   "cell_type": "code",
   "execution_count": 377,
   "metadata": {},
   "outputs": [],
   "source": [
    "import numpy as np\n",
    "import scipy.stats\n",
    "from sklearn.base import BaseEstimator\n",
    "class GaussianDensity(BaseEstimator):\n",
    "    def fit(self, X, y=None):\n",
    "        ##### Your code here #####\n",
    "        # You should estimate the mean and variance of the data  and save as self.mean_ and self.std_\n",
    "        # (note that X will be shape (n,1) because there is only 1 feature).\n",
    "        \n",
    "        self.mean_ = X.mean()\n",
    "        self.std_ = X.std()\n",
    "        \n",
    "        ##########################\n",
    "        return self\n",
    "    \n",
    "    def predict_proba(self, X):\n",
    "        ##### Your code here #####\n",
    "        # This should return the PDF values for each sample in X (again of shape (n, 1))\n",
    "        # This should use your self.mean_ and self.std_ variables saved from the fit method\n",
    "\n",
    "        pdf_values = scipy.stats.norm.pdf(X, loc=self.mean_, scale=self.std_).ravel()\n",
    "            #value = (self.std_**2) / (self.mean_ - sample)\n",
    "            \n",
    "        \n",
    "        return pdf_values  # Output should be of shape (n,), i.e., a 1D array\n",
    "        ##########################"
   ]
  },
  {
   "cell_type": "markdown",
   "metadata": {},
   "source": [
    "### Task 1.2: Histogram density\n",
    "Now you will implement a histogram density estimate given min, max and number of bins.\n",
    "The function [`np.searchsorted`](https://numpy.org/doc/stable/reference/generated/numpy.searchsorted.html) may be useful but is not required.\n",
    "\n",
    "NOTE: The value of the histogram outside of the min max values should be set to 0."
   ]
  },
  {
   "cell_type": "code",
   "execution_count": 414,
   "metadata": {},
   "outputs": [],
   "source": [
    "import numpy as np\n",
    "import scipy.stats\n",
    "from sklearn.base import BaseEstimator\n",
    "class HistogramDensity(BaseEstimator):\n",
    "    def __init__(self, n_bins, min_val, max_val):\n",
    "        self.n_bins = n_bins\n",
    "        self.min_val = min_val\n",
    "        self.max_val = max_val\n",
    "    \n",
    "    def fit(self, X, y=None):\n",
    "        ##### Your code here #####\n",
    "        # First create equally spaced bin_edges based on min_val, max_val and n_bins\n",
    "        #  and save as self.bin_edges_\n",
    "        #  (note the shape of self.bin_edges_ should be (n_bins+1,) )\n",
    "        # Second, estimate the frequency for each bin based on the input data X\n",
    "        #  (i.e., the number of training samples that fall into that bin divided \n",
    "        #  by the total number of samples)\n",
    "        # Third, using the probability for each bin, compute the density value (i.e., PDF) for\n",
    "        #  each bin. (Note you will have to account for the width of the bin to ensure\n",
    "        #  that integrating your density function from min_value to max_value will be 1).\n",
    "        #  Save the density per bin as self.pdf_per_bin_ which should have the shape (n_bins,)\n",
    "        \n",
    "        \n",
    "        self.bin_edges_ = np.linspace(self.min_val, self.max_val, self.n_bins + 1)\n",
    "        freq = np.zeros(self.bin_edges_.shape[0])\n",
    "        \n",
    "        #freq = np.searchsorted(self.bin_edges_,X)\n",
    "        for x in X:\n",
    "            \n",
    "            val = np.searchsorted(self.bin_edges_,x,side='left')\n",
    "            \n",
    "            freq[val-1] += 1\n",
    "        \n",
    "        #freq = np.divide(freq,len(X))\n",
    "        freq = np.array(freq/len(X))\n",
    "        \n",
    "        #self.pdf_per_bin_ = []\n",
    "        width = self.bin_edges_[len(self.bin_edges_) - 1] - self.bin_edges_[len(self.bin_edges_) - 2]\n",
    "        \n",
    "        self.pdf_per_bin_ = np.array(freq/width)\n",
    "\n",
    "\n",
    "        ##########################\n",
    "        return self.pdf_per_bin_\n",
    "    \n",
    "    def predict_proba(self, X):\n",
    "        ##### Your code here #####\n",
    "        # You should return the PDF value of the samples X.  This requires finding out which\n",
    "        #  bin each sample falls into and returning it's corresponding density value\n",
    "        #  **Importantly, if the value is less than min_value or greater than max_value, \n",
    "        #    then a pdf value of 0 should be returned.\n",
    "        \n",
    "        \n",
    "        \n",
    "        bin_edges_ = list(self.bin_edges_)\n",
    "        \n",
    "        \n",
    "        pdf_values = []\n",
    "        for x in X:\n",
    "            if x < self.bin_edges_[0] or x >= self.bin_edges_[len(self.bin_edges_)-1]:\n",
    "                pdf_values.append(0)\n",
    "                \n",
    "            else:\n",
    "                for value in self.bin_edges_:\n",
    "                    if x <= value:\n",
    "                        \n",
    "                        val = np.searchsorted(self.bin_edges_,x)\n",
    "                        pdf_values.append(self.pdf_per_bin_[val-1])\n",
    "                        \n",
    "                        break\n",
    "                    \n",
    "        pdf_values = np.array(pdf_values)\n",
    "\n",
    "        return pdf_values  # Output should be of shape (n,), i.e., a 1D array\n",
    "        ##########################"
   ]
  },
  {
   "cell_type": "code",
   "execution_count": null,
   "metadata": {},
   "outputs": [],
   "source": []
  },
  {
   "cell_type": "markdown",
   "metadata": {},
   "source": [
    "### Task 1.3: Kernel density\n",
    "Now you will implement a kernel density estimate (KDE) via a Gaussian kernel given the bandwidth parameter (i.e., the standard deviation of the Gaussian kernel.\n",
    "Specifically, the Gaussian kernel density is given by:\n",
    "$$p(x; \\mathcal{D}) = \\frac{1}{n}\\sum_{i=1}^n p_{\\mathcal{N}}(x; \\mu = x_i, \\sigma=h) $$\n",
    "where $\\mathcal{D}=\\{x_i\\}_{i=1}^n$ is a training dataset of $n$ samples, $p_{\\mathcal{N}}$ is the Gaussian/normal density function and $h$ is called the bandwidth hyperparameter of the KDE model.\n",
    "(Note that fitting merely requires saving the training dataset and using it to compute densities of new samples.)"
   ]
  },
  {
   "cell_type": "code",
   "execution_count": 372,
   "metadata": {},
   "outputs": [],
   "source": [
    "import numpy as np\n",
    "import scipy.stats\n",
    "from sklearn.base import BaseEstimator\n",
    "class KernelDensity(BaseEstimator):\n",
    "    def __init__(self, bandwidth):\n",
    "        self.bandwidth = bandwidth\n",
    "    \n",
    "    def fit(self, X, y=None):\n",
    "        ##### Your code here #####\n",
    "        # Save the training data in self.X_train_\n",
    "        self.X_train_ = X\n",
    "        ##########################\n",
    "        return self.X_train_\n",
    "    \n",
    "    def predict_proba(self, X):\n",
    "        ##### Your code here #####\n",
    "        # You should return the KDE PDF value of the samples X.\n",
    "        #  Note that the sum above is over the TRAINING samples, not the test samples\n",
    "        #  so you should use the samples saved in the fit method.\n",
    "        #scipy.stats.gaussian_kde(X,)\n",
    "        pdf_value = 0\n",
    "        for x in self.X_train_:\n",
    "            pdf_value += scipy.stats.norm.pdf(X,x,scale= self.bandwidth)\n",
    "            \n",
    "        pdf_values = (pdf_value/len(self.X_train_)).ravel()\n",
    "        \n",
    "        \n",
    "        return pdf_values  # Output should be of shape (n,), i.e., a 1D array\n",
    "        ##########################"
   ]
  },
  {
   "cell_type": "markdown",
   "metadata": {},
   "source": [
    "### Test code\n",
    "The following code will test each of your density estimators.\n",
    "Run this to test your code and this is what will be used for grading your code."
   ]
  },
  {
   "cell_type": "code",
   "execution_count": 541,
   "metadata": {
    "scrolled": false
   },
   "outputs": [
    {
     "name": "stdout",
     "output_type": "stream",
     "text": [
      "(200, 1) (200, 1)\n",
      "Fitting GaussianDensity model\n",
      "True, Shape=(1000,) - Is the output the correct shape?\n",
      "True, Num neg=0 - Are all pdf values >= 0? \n",
      "True, quad_out=0.9999939051919124 - Does the PDF integrate to 1? \n",
      "\n",
      "Fitting HistogramDensity model\n",
      "True, Shape=(1000,) - Is the output the correct shape?\n",
      "True, Num neg=0 - Are all pdf values >= 0? \n",
      "True, quad_out=0.99996454271539 - Does the PDF integrate to 1? \n",
      "\n",
      "Fitting KernelDensity model\n",
      "True, Shape=(1000,) - Is the output the correct shape?\n",
      "True, Num neg=0 - Are all pdf values >= 0? \n"
     ]
    },
    {
     "name": "stderr",
     "output_type": "stream",
     "text": [
      "D:\\Anaconda3\\lib\\site-packages\\ipykernel_launcher.py:72: VisibleDeprecationWarning: Creating an ndarray from ragged nested sequences (which is a list-or-tuple of lists-or-tuples-or ndarrays with different lengths or shapes) is deprecated. If you meant to do this, you must specify 'dtype=object' when creating the ndarray\n"
     ]
    },
    {
     "name": "stdout",
     "output_type": "stream",
     "text": [
      "True, quad_out=1.0 - Does the PDF integrate to 1? \n",
      "\n"
     ]
    },
    {
     "data": {
      "text/plain": [
       "<matplotlib.legend.Legend at 0x267cd67df08>"
      ]
     },
     "execution_count": 541,
     "metadata": {},
     "output_type": "execute_result"
    },
    {
     "data": {
      "image/png": "[encoded data removed]",
      "text/plain": [
       "<Figure size 432x288 with 1 Axes>"
      ]
     },
     "metadata": {
      "needs_background": "light"
     },
     "output_type": "display_data"
    }
   ],
   "source": [
    "import scipy.stats\n",
    "import matplotlib.pyplot as plt\n",
    "from sklearn.model_selection import train_test_split\n",
    "# Generate some data and split into train and test\n",
    "min_val, max_val = -5, 5\n",
    "diff = max_val - min_val\n",
    "X = diff * np.vstack([scipy.stats.beta(6,1).rvs(size=(300,1)), scipy.stats.beta(2,7).rvs(size=(100,1))]) - diff/2\n",
    "X_train, X_test = train_test_split(X, test_size=0.5, random_state=15)\n",
    "print(X_train.shape, X_test.shape)\n",
    "\n",
    "# Loop through models\n",
    "models = [GaussianDensity(), \n",
    "          HistogramDensity(n_bins=15, min_val=min_val, max_val=max_val),\n",
    "          KernelDensity(bandwidth=1)\n",
    "         ]\n",
    "\n",
    "for model in models:\n",
    "    print(f'Fitting {type(model).__name__} model')\n",
    "    # Fit models\n",
    "    model.fit(X_train)\n",
    "\n",
    "    # Sanity checks \n",
    "    xq = np.linspace(min_val-diff, max_val+diff, num=1000)\n",
    "    pdf_vals = model.predict_proba(xq.reshape(-1, 1))\n",
    "    # Check that right size and >= 0\n",
    "    print(f'{len(pdf_vals.shape) == 1 and pdf_vals.shape[0] == len(xq)}, Shape={pdf_vals.shape}'\n",
    "          f' - Is the output the correct shape?') \n",
    "    print(f'{np.all(pdf_vals>=0)}, Num neg={np.sum(pdf_vals < 0)} - Are all pdf values >= 0? ')\n",
    "    \n",
    "    # Check that integrates to 1 vai approximate numerical integration\n",
    "    model_pdf = lambda x: model.predict_proba(np.array(x).reshape(1,1))[0]\n",
    "    quad_out = scipy.integrate.quad(model_pdf, min_val - diff, max_val + diff, limit=100, full_output=True)\n",
    "    print(f'{np.abs(quad_out[0] - 1) < 1e-4}, quad_out={quad_out[0]} - Does the PDF integrate to 1? ')\n",
    "    print('')\n",
    "\n",
    "    # Plot density model\n",
    "    plt.plot(xq, pdf_vals, label=type(model).__name__)\n",
    "    \n",
    "plt.legend()"
   ]
  },
  {
   "cell_type": "code",
   "execution_count": null,
   "metadata": {},
   "outputs": [],
   "source": []
  },
  {
   "cell_type": "markdown",
   "metadata": {},
   "source": [
    "## Exercise 2: Determine optimal hyperparameters based on 10-fold cross validation\n",
    "In this exercise, you need to write code that will use your estimators from above to automatically choose the best hyperparameters for the histogram and kernel density estimator.  In particular, find the best `n_bins` and `bandwidth` for the histogram and KDE respectively.\n",
    "\n",
    "### Task 1: Implement custom scorer function for use in GridSearchCV\n",
    "To do this, you will need to implement a `scorer` function that will compute the log likelihood of the data given (higher is better).\n",
    "This function takes in the model, the input data X and y_true (which defaults to None since this is an unsupervised problem)."
   ]
  },
  {
   "cell_type": "code",
   "execution_count": 551,
   "metadata": {},
   "outputs": [],
   "source": [
    "from sklearn.metrics import fbeta_score, make_scorer, log_loss\n",
    "from sklearn.model_selection import GridSearchCV\n",
    "from sklearn.model_selection import LeaveOneOut\n",
    "\n",
    "def mean_log_likelihood_scorer(model, X, y_true=None):\n",
    "    ########## Your code here ########\n",
    "    # Compute and return the mean log probability of the data\n",
    "    #  (Note y_true is not used)\n",
    "    # scorer = make_scorer(neg_log_loss,true, true)\n",
    "    epsi = 0.000000000000000000001\n",
    "    \n",
    "    pdf_vals = scipy.stats.norm.pdf(X).ravel()\n",
    "    pdf_vals[pdf_vals < epsi] = epsi\n",
    "\n",
    "    logs = np.log(pdf_vals)\n",
    "    mean_ll = logs.mean()    \n",
    "    \n",
    "    return mean_ll\n",
    "    ############\n"
   ]
  },
  {
   "cell_type": "markdown",
   "metadata": {},
   "source": [
    "### Task 2: Estimate best hyperparameters\n",
    "Then you can use sklearn's cross validation utilities to cross validate using the training data to determine the best parameters by passing this function as the `scoring` argument of GridSearchCV (note you just pass it directly as `mean_log_likelihood_scorer` without the parenthesis; this is known as passing a function to another function).\n",
    "\n",
    "You should try 2-20 number of bins and a 50 bandwidth parameters linearly spaced between 0.1 and 10.\n",
    "\n",
    "Finally, print out the optimal hyperparameters and, using the optimal hyperparameters, print out the log likelihood of the test data for both the histogram and KDE model."
   ]
  },
  {
   "cell_type": "code",
   "execution_count": 542,
   "metadata": {},
   "outputs": [
    {
     "name": "stdout",
     "output_type": "stream",
     "text": [
      "(1000, 1)\n"
     ]
    }
   ],
   "source": [
    "def make_data(N, f=0.3, rseed=1):\n",
    "    rand = np.random.RandomState(rseed)\n",
    "    x = rand.randn(N)\n",
    "    x[int(f * N):] += 5\n",
    "    return x\n",
    "\n",
    "X = make_data(1000).reshape(-1,1)\n",
    "print(X.shape)"
   ]
  },
  {
   "cell_type": "code",
   "execution_count": 543,
   "metadata": {},
   "outputs": [
    {
     "name": "stdout",
     "output_type": "stream",
     "text": [
      "(400, 1)\n"
     ]
    }
   ],
   "source": [
    "X = diff * np.vstack([scipy.stats.beta(6,1).rvs(size=(300,1)), scipy.stats.beta(2,7).rvs(size=(100,1))]) - diff/2\n",
    "print(X.shape)"
   ]
  },
  {
   "cell_type": "code",
   "execution_count": 552,
   "metadata": {},
   "outputs": [
    {
     "name": "stdout",
     "output_type": "stream",
     "text": [
      "The optimal parameters are ({'n_bins': 2}, {'bandwidth': 1.2589254117941673})\n",
      "The log likelihood probabilities are (Hist = 0.05025069444444428 KDE = 0.12678221451295937)\n"
     ]
    },
    {
     "name": "stderr",
     "output_type": "stream",
     "text": [
      "D:\\Anaconda3\\lib\\site-packages\\ipykernel_launcher.py:72: VisibleDeprecationWarning: Creating an ndarray from ragged nested sequences (which is a list-or-tuple of lists-or-tuples-or ndarrays with different lengths or shapes) is deprecated. If you meant to do this, you must specify 'dtype=object' when creating the ndarray\n"
     ]
    }
   ],
   "source": [
    "############ Your code here #############3\n",
    "\n",
    "min_val, max_val = 2,20\n",
    "\n",
    "scorer = make_scorer(mean_log_likelihood_scorer, greater_is_better=True,y_true= None)\n",
    "\n",
    "n_bins = np.linspace(2, 20, 19).astype(int)\n",
    "\n",
    "\n",
    "bandwidth = 10 ** np.linspace(0.1, 1, 100)\n",
    "\n",
    "grid_hist = GridSearchCV(HistogramDensity(15,min_val= min_val, max_val=max_val),{'n_bins' : n_bins},scoring= mean_log_likelihood_scorer,cv = 10, iid= True)\n",
    "\n",
    "grid_ker = GridSearchCV(KernelDensity(0),{'bandwidth': bandwidth}, scoring= mean_log_likelihood_scorer,cv = 10, iid= True)\n",
    "\n",
    "#scorer = make_scorer(mean_log_likelihood_scorer,greater_is_better=True)\n",
    "result_hist = grid_hist.fit(X);\n",
    "result_ker = grid_ker.fit(X);\n",
    "#grid_hist.fit(X)\n",
    "#grid_ker.fit(X)\n",
    "#results = CV_parameters.fit(X)\n",
    "\n",
    "print(f'The optimal parameters are {grid_hist.best_params_, grid_ker.best_params_ }')\n",
    "\n",
    "\n",
    "print(f'The log likelihood probabilities are (Hist = {np.mean(result_hist.predict_proba(X))[0]} KDE = {result_ker.predict_proba(X).mean() })')\n"
   ]
  }
 ],
 "metadata": {
  "accelerator": "GPU",
  "colab": {
   "collapsed_sections": [],
   "name": "Assignment_04_Exercise.ipynb",
   "provenance": []
  },
  "kernelspec": {
   "display_name": "Python 3",
   "language": "python",
   "name": "python3"
  },
  "language_info": {
   "codemirror_mode": {
    "name": "ipython",
    "version": 3
   },
   "file_extension": ".py",
   "mimetype": "text/x-python",
   "name": "python",
   "nbconvert_exporter": "python",
   "pygments_lexer": "ipython3",
   "version": "3.7.4"
  }
 },
 "nbformat": 4,
 "nbformat_minor": 1
}
