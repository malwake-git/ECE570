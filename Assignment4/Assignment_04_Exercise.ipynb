{
 "cells": [
  {
   "cell_type": "markdown",
   "metadata": {
    "id": "zmwWs4S9cRIn"
   },
   "source": [
    "# ECE 57000 Assignment 4 Exercise\n",
    "\n",
    "Your Name:"
   ]
  },
  {
   "cell_type": "markdown",
   "metadata": {
    "id": "Vmlsa88cqmib"
   },
   "source": [
    "## Exercise 0: Train your model on GPU (0 points)"
   ]
  },
  {
   "cell_type": "markdown",
   "metadata": {
    "id": "WfirXJR3qvB0"
   },
   "source": [
    "For some tasks in this assignment, it can take a long time if you run it on CPU. For example, based on our test on Exercise 3 Task 4, it will take roughly 2 hours to train the full model for 1 epoch on CPU. Hence, we highly recommend you try to train your model on GPU.\n",
    "\n",
    "To do so, first you need to enable GPU on Colab (this will restart the runtime). Click `Runtime`-> `Change runtime type` and select the `Hardware accelerator` there.  You can then run the following code to see if the GPU is correctly initialized and available.\n",
    "\n"
   ]
  },
  {
   "cell_type": "code",
   "execution_count": 1,
   "metadata": {
    "colab": {
     "base_uri": "https://localhost:8080/"
    },
    "id": "TT7wKvilvBvX",
    "outputId": "e709256a-18af-48ad-a235-3547a8e4b585"
   },
   "outputs": [
    {
     "name": "stdout",
     "output_type": "stream",
     "text": [
      "Can I can use GPU now? -- True\n"
     ]
    }
   ],
   "source": [
    "import torch\n",
    "print(f'Can I can use GPU now? -- {torch.cuda.is_available()}')"
   ]
  },
  {
   "cell_type": "code",
   "execution_count": 2,
   "metadata": {},
   "outputs": [
    {
     "name": "stdout",
     "output_type": "stream",
     "text": [
      "NVIDIA GeForce GTX 1060 with Max-Q Design\n"
     ]
    }
   ],
   "source": [
    "print(torch.cuda.get_device_name(0))"
   ]
  },
  {
   "cell_type": "markdown",
   "metadata": {
    "id": "hnPPDoA7vQWp"
   },
   "source": [
    "### You must manually move your model and data to the GPU (and sometimes back to the cpu)\n",
    "After setting the GPU up on colab, then you should put your **model** and **data** to GPU. We give a simple example below. You can use `to` function for this task. See [torch.Tensor.to](https://pytorch.org/docs/stable/generated/torch.Tensor.to.html) to move a tensor to the GPU (probably your mini-batch of data in each iteration) or [torch.nn.Module.to](https://pytorch.org/docs/stable/generated/torch.nn.Module.html#torch.nn.Module.to) to move your NN model to GPU (assuming you create subclass [torch.nn.Module](https://pytorch.org/docs/stable/generated/torch.nn.Module.html)). Note that `to()` of tensor returns a NEW tensor while `to` of a NN model will apply this in-place. To be safe, the best semantics are `obj = obj.to(device)`. For printing, you will need to move a tensor back to the CPU via the `cpu()` function.\n",
    "\n",
    "Once the model and input data are on the GPU, everything else can be done the same.  This is the beauty of PyTorch GPU acceleration.  None of the other code needs to be altered.\n",
    "\n",
    "To summarize, you need to 1) enable GPU acceleration in Colab, 2) put the model on the GPU, and 3) put the input data (i.e., the batch of samples) onto the GPU using `to()` after it is loaded by the data loaders (usually you only put one batch of data on the GPU at a time)."
   ]
  },
  {
   "cell_type": "code",
   "execution_count": 3,
   "metadata": {
    "colab": {
     "base_uri": "https://localhost:8080/"
    },
    "id": "lUdR8v7Kt-6S",
    "outputId": "1fe0212f-ec0b-47d9-efff-13fbcbb46d32"
   },
   "outputs": [
    {
     "name": "stdout",
     "output_type": "stream",
     "text": [
      "input is on cpu\n",
      "model parameters are on [device(type='cpu'), device(type='cpu'), device(type='cpu'), device(type='cpu')]\n",
      "output is on cpu\n",
      "input is on cuda:0\n",
      "model parameters are on [device(type='cuda', index=0), device(type='cuda', index=0), device(type='cuda', index=0), device(type='cuda', index=0)]\n",
      "output is on cuda:0\n"
     ]
    }
   ],
   "source": [
    "import torch.nn as nn\n",
    "rand_tensor = torch.rand(5,2)\n",
    "simple_model = nn.Sequential(nn.Linear(2,10), nn.ReLU(), nn.Linear(10,1))\n",
    "print(f'input is on {rand_tensor.device}')\n",
    "print(f'model parameters are on {[param.device for param in simple_model.parameters()]}')\n",
    "print(f'output is on {simple_model(rand_tensor).device}')\n",
    "\n",
    "device = torch.device('cuda')\n",
    "# ----------- <Your code> ---------------\n",
    "# Move rand_tensor and model onto the GPU device\n",
    "\n",
    "\n",
    "\n",
    "# transfers tensor & model from CPU to GPU 1\n",
    "rand_tensor = rand_tensor.to(device)\n",
    "    \n",
    "simple_model = simple_model.to(device)\n",
    "\n",
    "\n",
    "\n",
    "# --------- <End your code> -------------\n",
    "print(f'input is on {rand_tensor.device}')\n",
    "print(f'model parameters are on {[param.device for param in simple_model.parameters()]}')\n",
    "print(f'output is on {simple_model(rand_tensor).device}')"
   ]
  },
  {
   "cell_type": "markdown",
   "metadata": {
    "id": "Zz2T0QYYpwVR"
   },
   "source": [
    "## Exercise 1: Why use a CNN rather than only fully connected layers? (30 points)\n",
    "\n",
    "In this exercise, you will build two models for the **MNIST** dataset: one uses only fully connected layers and another uses a standard CNN layout (convolution layers everywhere except the last layer is fully connected layer). The two models should be built with roughly the same accuracy performance, your task is to compare the number of network parameters (a huge number of parameters can affect training/testing time, memory requirements, overfitting, etc.)."
   ]
  },
  {
   "cell_type": "markdown",
   "metadata": {
    "id": "DFKqew7r-E-q"
   },
   "source": [
    "### Task 1: Following the structure used in the instructions, you should create\n",
    "\n",
    "*   One network named **OurFC** which should consist with only fully connected layers\n",
    "\n",
    "  *   You should decide how many layers and how many hidden dimensions you want in your network \n",
    "  *   Your final accuracy on the test dataset should lie roughly around 90% ($\\pm$2%)\n",
    "  *   There is no need to make the neural network unnecessarily complex, your total training time should no longer than 3 mins\n",
    "\n",
    "*   Another network named **OurCNN** which applys a standard CNN structure\n",
    "  *   Again, you should decide how many layers and how many channels you want for each layer.\n",
    "  *   Your final accuracy on the test dataset should lie roughly around 90% ($\\pm$2%)\n",
    "  *   A standard CNN structure can be composed as **[Conv2d, MaxPooling, ReLU] x num_conv_layers + FC x num_fc_layers**\n",
    "\n",
    "* Train and test your network on MNIST data as in the instructions\n",
    "* You are **required** to print out the loss in the training and loss+accuracy in the test as in the instructions."
   ]
  },
  {
   "cell_type": "code",
   "execution_count": 64,
   "metadata": {},
   "outputs": [],
   "source": [
    "# ----------- <Your code> ---------------\n",
    "\n",
    "import torchvision\n",
    "import torch.nn as nn\n",
    "import torch.nn.functional as F\n",
    "import torch.optim as optim"
   ]
  },
  {
   "cell_type": "code",
   "execution_count": 65,
   "metadata": {
    "id": "FIVO5T4JgA_N"
   },
   "outputs": [
    {
     "name": "stdout",
     "output_type": "stream",
     "text": [
      "Dataset MNIST\n",
      "    Number of datapoints: 60000\n",
      "    Root location: D:\\Jupyter\\ECE570\\Assignment-4\n",
      "    Split: Train\n",
      "    StandardTransform\n",
      "Transform: Compose(\n",
      "               ToTensor()\n",
      "               Normalize(mean=(0.1307,), std=(0.3081,))\n",
      "           )\n"
     ]
    }
   ],
   "source": [
    "transform = torchvision.transforms.Compose([torchvision.transforms.ToTensor(),\n",
    "                      torchvision.transforms.Normalize((0.1307,),(0.3081,))])\n",
    "\n",
    "train_dataset = torchvision.datasets.MNIST('D:\\Jupyter\\ECE570\\Assignment-4', train=True, download=True, transform=transform)\n",
    "test_dataset = torchvision.datasets.MNIST('D:\\Jupyter\\ECE570\\Assignment-4', train=False, download=True, transform=transform)\n",
    "\n",
    "print(train_dataset)"
   ]
  },
  {
   "cell_type": "code",
   "execution_count": 66,
   "metadata": {},
   "outputs": [],
   "source": [
    "batch_size_train, batch_size_test = 64, 1000\n",
    "\n",
    "train_loader = torch.utils.data.DataLoader(train_dataset, batch_size=batch_size_train, shuffle=True)\n",
    "test_loader = torch.utils.data.DataLoader(test_dataset, batch_size=batch_size_test, shuffle=False)"
   ]
  },
  {
   "cell_type": "code",
   "execution_count": 80,
   "metadata": {},
   "outputs": [],
   "source": [
    "class OurFC(nn.Module): # Any neural generated network should be generate\n",
    "\n",
    "    \n",
    "    def __init__(self):\n",
    "        super(OurFC, self).__init__()\n",
    "\n",
    "        self.fc = nn.Linear(784, 10)\n",
    "        #self.fc1 = nn.Linear(392, 10)\n",
    "        \n",
    "\n",
    "    def forward(self, x):\n",
    "\n",
    "        x = x.view(-1, 784)      # x now has shape (batchsize x 432)\n",
    "\n",
    "        x = F.relu(self.fc(x))\n",
    "        #x = F.relu(self.fc1(x))\n",
    " \n",
    "\n",
    "        return F.log_softmax(x,-1)"
   ]
  },
  {
   "cell_type": "code",
   "execution_count": 68,
   "metadata": {},
   "outputs": [],
   "source": [
    "class OurCNN(nn.Module): # Any neural generated network should be generate\n",
    "\n",
    "    def __init__(self):\n",
    "        super(OurCNN, self).__init__()\n",
    "         #[Conv2d, MaxPooling, ReLU] x num_conv_layers + FC x num_fc_layers\n",
    "        self.conv = nn.Conv2d(1, 3, kernel_size=5)\n",
    "        self.fc = nn.Linear(432, 216)\n",
    "        self.fc1 = nn.Linear(216,10)\n",
    "\n",
    "    def forward(self, x):\n",
    "        x = self.conv(x)       \n",
    "        x = F.relu(F.max_pool2d(x,2))  \n",
    "        x = x.view(-1, 432)\n",
    "        x= self.fc(x)\n",
    "        x= self.fc1(x)\n",
    "        \n",
    "        return F.log_softmax(x,-1) "
   ]
  },
  {
   "cell_type": "code",
   "execution_count": 81,
   "metadata": {},
   "outputs": [],
   "source": [
    "#Initialize the classifiers\n",
    "classifierFC = OurFC()\n",
    "classifierCNN = OurCNN()\n",
    "\n",
    "optimizerFC = optim.SGD(classifierFC.parameters(), lr=0.01, momentum=0.8)\n",
    "optimizerCNN = optim.SGD(classifierCNN.parameters(), lr=0.01, momentum=0.8)"
   ]
  },
  {
   "cell_type": "code",
   "execution_count": 90,
   "metadata": {
    "id": "JrjN1dr_f-lc"
   },
   "outputs": [],
   "source": [
    "def train(classifier, epoch):\n",
    "    classifier.train() # we need to set the mode for our model\n",
    "\n",
    "    for batch_idx, (images, targets) in enumerate(train_loader):\n",
    "\n",
    "        optimizerCNN.zero_grad()\n",
    "        #optimizerFC.zero_grad()\n",
    "        output = classifier(images)\n",
    "        loss = F.nll_loss(output, targets) # Here is a typical loss function (negative log likelihood)\n",
    "        loss.backward()\n",
    "        optimizerCNN.step()\n",
    "        #optimizerFC.step()\n",
    "        \n",
    "        if batch_idx % 10 == 0: # We record our output every 10 batches\n",
    "            train_losses.append(loss.item()) # item() is to get the value of the tensor directly\n",
    "            train_counter.append((batch_idx*64) + ((epoch-1)*len(train_loader.dataset)))\n",
    "        if batch_idx % 100 == 0: # We visulize our output every 10 batches\n",
    "            print(f'Epoch {epoch}: [{batch_idx*len(images)}/{len(train_loader.dataset)}] Loss: {loss.item()}')\n",
    "\n",
    "\n",
    "def test(classifier, epoch):\n",
    "    classifier.eval() # we need to set the mode for our model\n",
    "    test_loss = 0\n",
    "    correct = 0\n",
    "    \n",
    "    with torch.no_grad():\n",
    "        for images, targets in test_loader:\n",
    "            output = classifier(images)\n",
    "            test_loss += F.nll_loss(output, targets, reduction='sum').item()\n",
    "            pred = output.data.max(1, keepdim=True)[1] # we get the estimate of our result by look at the largest class value\n",
    "            correct += pred.eq(targets.data.view_as(pred)).sum() # sum up the corrected samples\n",
    "  \n",
    "    test_loss /= len(test_loader.dataset)\n",
    "    test_losses.append(test_loss)\n",
    "    test_counter.append(len(train_loader.dataset)*epoch)\n",
    "\n",
    "    print(f'Test result on epoch {epoch}: Avg loss is {test_loss}, Accuracy: {100.*correct/len(test_loader.dataset)}%')"
   ]
  },
  {
   "cell_type": "markdown",
   "metadata": {},
   "source": [
    "### Test & Train output of the Fully Connected NN"
   ]
  },
  {
   "cell_type": "code",
   "execution_count": 67,
   "metadata": {},
   "outputs": [
    {
     "name": "stdout",
     "output_type": "stream",
     "text": [
      "Epoch 1: [0/60000] Loss: 2.344048500061035\n",
      "Epoch 1: [6400/60000] Loss: 0.4460954964160919\n",
      "Epoch 1: [12800/60000] Loss: 0.2175951898097992\n",
      "Epoch 1: [19200/60000] Loss: 0.5270322561264038\n",
      "Epoch 1: [25600/60000] Loss: 0.5004987716674805\n",
      "Epoch 1: [32000/60000] Loss: 0.3437567949295044\n",
      "Epoch 1: [38400/60000] Loss: 0.13237835466861725\n",
      "Epoch 1: [44800/60000] Loss: 0.33289915323257446\n",
      "Epoch 1: [51200/60000] Loss: 0.3084096908569336\n",
      "Epoch 1: [57600/60000] Loss: 0.23633091151714325\n",
      "Test result on epoch 1: Avg loss is 0.3022596992492676, Accuracy: 91.2300033569336%\n",
      "Epoch 2: [0/60000] Loss: 0.3183317482471466\n",
      "Epoch 2: [6400/60000] Loss: 0.39392194151878357\n",
      "Epoch 2: [12800/60000] Loss: 0.4058011472225189\n",
      "Epoch 2: [19200/60000] Loss: 0.3145514130592346\n",
      "Epoch 2: [25600/60000] Loss: 0.21817944943904877\n",
      "Epoch 2: [32000/60000] Loss: 0.42090749740600586\n",
      "Epoch 2: [38400/60000] Loss: 0.18405500054359436\n",
      "Epoch 2: [44800/60000] Loss: 0.20996719598770142\n",
      "Epoch 2: [51200/60000] Loss: 0.6726932525634766\n",
      "Epoch 2: [57600/60000] Loss: 0.15893703699111938\n",
      "Test result on epoch 2: Avg loss is 0.2827615692138672, Accuracy: 92.05999755859375%\n",
      "Epoch 3: [0/60000] Loss: 0.2107025533914566\n",
      "Epoch 3: [6400/60000] Loss: 0.18112210929393768\n",
      "Epoch 3: [12800/60000] Loss: 0.20307490229606628\n",
      "Epoch 3: [19200/60000] Loss: 0.22188962996006012\n",
      "Epoch 3: [25600/60000] Loss: 0.3656265437602997\n",
      "Epoch 3: [32000/60000] Loss: 0.25490766763687134\n",
      "Epoch 3: [38400/60000] Loss: 0.20031271874904633\n",
      "Epoch 3: [44800/60000] Loss: 0.19944390654563904\n",
      "Epoch 3: [51200/60000] Loss: 0.17025333642959595\n",
      "Epoch 3: [57600/60000] Loss: 0.3198699355125427\n",
      "Test result on epoch 3: Avg loss is 0.2854252998352051, Accuracy: 91.97000122070312%\n"
     ]
    }
   ],
   "source": [
    "train_losses = []\n",
    "train_counter = []\n",
    "test_losses = []\n",
    "test_counter = []\n",
    "max_epoch = 3\n",
    "\n",
    "for epoch in range(1, max_epoch+1):\n",
    "    train(classifierFC, epoch)\n",
    "    test(classifierFC, epoch)"
   ]
  },
  {
   "cell_type": "markdown",
   "metadata": {},
   "source": [
    "### Test & Train output of the CNN"
   ]
  },
  {
   "cell_type": "code",
   "execution_count": 46,
   "metadata": {},
   "outputs": [
    {
     "name": "stdout",
     "output_type": "stream",
     "text": [
      "Epoch 1: [0/60000] Loss: 2.3177576065063477\n",
      "Epoch 1: [6400/60000] Loss: 0.3885684311389923\n",
      "Epoch 1: [12800/60000] Loss: 0.16379523277282715\n",
      "Epoch 1: [19200/60000] Loss: 0.4191194474697113\n",
      "Epoch 1: [25600/60000] Loss: 0.27807432413101196\n",
      "Epoch 1: [32000/60000] Loss: 0.21233472228050232\n",
      "Epoch 1: [38400/60000] Loss: 0.08969707787036896\n",
      "Epoch 1: [44800/60000] Loss: 0.41000786423683167\n",
      "Epoch 1: [51200/60000] Loss: 0.17236898839473724\n",
      "Epoch 1: [57600/60000] Loss: 0.19251786172389984\n",
      "Test result on epoch 1: Avg loss is 0.12640059432983397, Accuracy: 96.0999984741211%\n",
      "Epoch 2: [0/60000] Loss: 0.2085951715707779\n",
      "Epoch 2: [6400/60000] Loss: 0.10022564977407455\n",
      "Epoch 2: [12800/60000] Loss: 0.1162470206618309\n",
      "Epoch 2: [19200/60000] Loss: 0.08105329424142838\n",
      "Epoch 2: [25600/60000] Loss: 0.2331477552652359\n",
      "Epoch 2: [32000/60000] Loss: 0.1578245759010315\n",
      "Epoch 2: [38400/60000] Loss: 0.12217027693986893\n",
      "Epoch 2: [44800/60000] Loss: 0.1632872074842453\n",
      "Epoch 2: [51200/60000] Loss: 0.15460564196109772\n",
      "Epoch 2: [57600/60000] Loss: 0.24571436643600464\n",
      "Test result on epoch 2: Avg loss is 0.10405022735595704, Accuracy: 96.80999755859375%\n",
      "Epoch 3: [0/60000] Loss: 0.17963087558746338\n",
      "Epoch 3: [6400/60000] Loss: 0.03433581069111824\n",
      "Epoch 3: [12800/60000] Loss: 0.046823836863040924\n",
      "Epoch 3: [19200/60000] Loss: 0.07802072912454605\n",
      "Epoch 3: [25600/60000] Loss: 0.04077259078621864\n",
      "Epoch 3: [32000/60000] Loss: 0.07629600167274475\n",
      "Epoch 3: [38400/60000] Loss: 0.23431190848350525\n",
      "Epoch 3: [44800/60000] Loss: 0.05308881774544716\n",
      "Epoch 3: [51200/60000] Loss: 0.07985365390777588\n",
      "Epoch 3: [57600/60000] Loss: 0.2062133550643921\n",
      "Test result on epoch 3: Avg loss is 0.08462077369689941, Accuracy: 97.33999633789062%\n"
     ]
    }
   ],
   "source": [
    "train_losses = []\n",
    "train_counter = []\n",
    "test_losses = []\n",
    "test_counter = []\n",
    "max_epoch = 3\n",
    "\n",
    "for epoch in range(1, max_epoch+1):\n",
    "    train(classifierCNN, epoch)\n",
    "    test(classifierCNN, epoch)"
   ]
  },
  {
   "cell_type": "code",
   "execution_count": null,
   "metadata": {},
   "outputs": [],
   "source": []
  },
  {
   "cell_type": "markdown",
   "metadata": {
    "id": "8fJY7m55fObt"
   },
   "source": [
    "### Task 2: Compare the number of parameters that are used in both your neural networks by printing out the total number of parameters for both of your networks."
   ]
  },
  {
   "cell_type": "markdown",
   "metadata": {
    "id": "JEVoEH2QLvv0"
   },
   "source": [
    "**Note:** You need to clearly show which number corresponds to which network."
   ]
  },
  {
   "cell_type": "code",
   "execution_count": 82,
   "metadata": {},
   "outputs": [
    {
     "name": "stdout",
     "output_type": "stream",
     "text": [
      "The number of parameter for Fully Connected: 7850\n",
      "The number of parameter for CNN: 95776\n"
     ]
    }
   ],
   "source": [
    "# ----------- <Your code> ---------------\n",
    "\n",
    "total_params_FC = sum(p.numel() for p in classifierFC.parameters())\n",
    "print(f'The number of parameter for Fully Connected: {total_params_FC}')\n",
    "\n",
    "\n",
    "total_params_CNN = sum(p.numel() for p in classifierCNN.parameters())\n",
    "print(f'The number of parameter for CNN: {total_params_CNN}')"
   ]
  },
  {
   "cell_type": "code",
   "execution_count": null,
   "metadata": {},
   "outputs": [],
   "source": []
  },
  {
   "cell_type": "markdown",
   "metadata": {
    "id": "v5oMKOrhmfpM"
   },
   "source": [
    "Questions (0 points, just for understanding): Which one has more parameters?  Which one is likely to have less computational cost when deployed? Which one took longer to train?"
   ]
  },
  {
   "cell_type": "markdown",
   "metadata": {
    "id": "290mOBEHgEXr"
   },
   "source": [
    "## Exercise 2: Train classifier on CIFAR-10 data. (30 points)\n",
    "Now, lets move our dataset to color images. CIFAR-10 dataset is another widely used dataset. Here all images have colors, i.e each image has 3 color channels instead of only one channel in MNIST. You need to pay more attention to the dimension of the data as it passes through the layers of your network."
   ]
  },
  {
   "cell_type": "markdown",
   "metadata": {
    "id": "IHClZywoGwWt"
   },
   "source": [
    "### Task 1: Create data loaders and plot images\n",
    "Set up a `train_loader` and `test_loader` for the CIFAR-10 data, and plot a figure:\n",
    "\n",
    "*   3 x 3 subplot\n",
    "*   each subplot is a randomly chosen image from the test dataset\n",
    "*   label each image with its label\n",
    "\n",
    "The corresponding names of the classes is given as \n",
    "`classes = ('plane', 'car', 'bird', 'cat', 'deer', 'dog', 'frog', 'horse', 'ship', 'truck')`\n",
    "\n",
    "Note: In your transforms, the normalizing constant is given as `transforms.Normalize((0.5, 0.5, 0.5), (0.5, 0.5, 0.5))])`"
   ]
  },
  {
   "cell_type": "code",
   "execution_count": 91,
   "metadata": {},
   "outputs": [],
   "source": [
    "import ssl\n",
    "\n",
    "ssl._create_default_https_context = ssl._create_unverified_context\n",
    "\n"
   ]
  },
  {
   "cell_type": "code",
   "execution_count": 121,
   "metadata": {
    "id": "oobbO_pGhYbs"
   },
   "outputs": [
    {
     "name": "stdout",
     "output_type": "stream",
     "text": [
      "Files already downloaded and verified\n",
      "Files already downloaded and verified\n",
      "Dataset CIFAR10\n",
      "    Number of datapoints: 50000\n",
      "    Root location: D:\\Jupyter\\ECE570\\Assignment-4\n",
      "    Split: Train\n",
      "    StandardTransform\n",
      "Transform: Compose(\n",
      "               ToTensor()\n",
      "               Normalize(mean=(0.5, 0.5, 0.5), std=(0.5, 0.5, 0.5))\n",
      "           )\n"
     ]
    }
   ],
   "source": [
    "# ----------- <Your code> ---------------\n",
    "transform = torchvision.transforms.Compose([torchvision.transforms.ToTensor(),\n",
    "                      torchvision.transforms.Normalize((0.5, 0.5, 0.5), (0.5, 0.5, 0.5))])\n",
    "\n",
    "train_dataset = torchvision.datasets.CIFAR10('D:\\Jupyter\\ECE570\\Assignment-4', train=True,\n",
    "                                             download=True, transform=transform)\n",
    "test_dataset = torchvision.datasets.CIFAR10('D:\\Jupyter\\ECE570\\Assignment-4', train=False,\n",
    "                                            download=True, transform=transform)\n",
    "\n",
    "classes = ('plane', 'car', 'bird', 'cat', 'deer', 'dog', 'frog', 'horse', 'ship', 'truck')\n",
    "\n",
    "print(train_dataset)\n"
   ]
  },
  {
   "cell_type": "code",
   "execution_count": 122,
   "metadata": {},
   "outputs": [
    {
     "name": "stdout",
     "output_type": "stream",
     "text": [
      "<torch.utils.data.dataloader.DataLoader object at 0x0000017A79041948>\n",
      "<torch.utils.data.dataloader.DataLoader object at 0x0000017A793CD348>\n"
     ]
    }
   ],
   "source": [
    "batch_size_train, batch_size_test = 64, 1000\n",
    "train_loader = torch.utils.data.DataLoader(train_dataset, batch_size=batch_size_train, shuffle=True) \n",
    "test_loader = torch.utils.data.DataLoader(test_dataset, batch_size=batch_size_test, shuffle=False) \n",
    "\n",
    "print(train_loader)\n",
    "print(test_loader)"
   ]
  },
  {
   "cell_type": "code",
   "execution_count": 94,
   "metadata": {},
   "outputs": [
    {
     "name": "stdout",
     "output_type": "stream",
     "text": [
      "current batch index is 0\n",
      "images has shape torch.Size([64, 3, 32, 32])\n",
      "targets has shape torch.Size([64])\n"
     ]
    },
    {
     "name": "stderr",
     "output_type": "stream",
     "text": [
      "D:\\Anaconda3\\lib\\site-packages\\ipykernel_launcher.py:16: UserWarning: Matplotlib is currently using module://ipykernel.pylab.backend_inline, which is a non-GUI backend, so cannot show the figure.\n",
      "  app.launch_new_instance()\n"
     ]
    },
    {
     "data": {
      "image/png": "[encoded data removed]",
      "text/plain": [
       "<Figure size 864x864 with 9 Axes>"
      ]
     },
     "metadata": {
      "needs_background": "light"
     },
     "output_type": "display_data"
    }
   ],
   "source": [
    "import matplotlib.pyplot as plt\n",
    "\n",
    "batch_idx, (images, targets) = next(enumerate(train_loader))\n",
    "print(f'current batch index is {batch_idx}')\n",
    "print(f'images has shape {images.size()}')\n",
    "print(f'targets has shape {targets.size()}')\n",
    "\n",
    "\n",
    "\n",
    "fig, ax = plt.subplots(3,3)\n",
    "fig.set_size_inches(12,12)\n",
    "for i in range(3):\n",
    "    for j in range(3):\n",
    "        ax[i,j].imshow(images[i*3+j][0])\n",
    "        ax[i,j].set_title(f'Class: {classes[targets[i*3+j]]}')\n",
    "fig.show()"
   ]
  },
  {
   "cell_type": "markdown",
   "metadata": {
    "id": "f0FMDyDzijEG"
   },
   "source": [
    "### Task 2: Create CNN and train it\n",
    "Set up a convolutional neural network and have your data trained on it. You have to decide all the details in your network, overall your neural network should meet the following standards:\n",
    "\n",
    "\n",
    "*   You should not use more than three convolutional layers and three fully connected layers\n",
    "*   Accuracy on the test dataset should be **above** 50%\n",
    "\n"
   ]
  },
  {
   "cell_type": "code",
   "execution_count": 256,
   "metadata": {},
   "outputs": [],
   "source": [
    "class OurCNN(nn.Module): # Any neural generated network should be generate\n",
    "\n",
    "    def __init__(self):\n",
    "        super(OurCNN, self).__init__()\n",
    "         #[Conv2d, MaxPooling, ReLU] x num_conv_layers + FC x num_fc_layers\n",
    "        self.conv = nn.Conv2d(3, 6, kernel_size=5)\n",
    "        self.conv1 = nn.Conv2d(6, 16, kernel_size=5)\n",
    "        self.fc = nn.Linear(400, 200)\n",
    "        self.fc1 = nn.Linear(200, 10)\n",
    "        \n",
    "    def forward(self, x):\n",
    "        x = self.conv(x)       \n",
    "        x = F.relu(F.max_pool2d(x,2))  \n",
    "\n",
    "        x = self.conv1(x)       \n",
    "        x = F.relu(F.max_pool2d(x,2))  \n",
    "\n",
    "        x = x.view(-1, 400)      \n",
    "        x = F.relu(self.fc(x))    \n",
    "        x = F.relu(self.fc1(x))    \n",
    "\n",
    "        return F.log_softmax(x,-1) \n"
   ]
  },
  {
   "cell_type": "code",
   "execution_count": 257,
   "metadata": {},
   "outputs": [],
   "source": [
    "def train(classifier, epoch):\n",
    "    classifier.train() # we need to set the mode for our model\n",
    "\n",
    "    for batch_idx, (images, targets) in enumerate(train_loader):\n",
    "\n",
    "        optimizerCNN.zero_grad()\n",
    "        output = classifier(images)\n",
    "        loss = F.nll_loss(output, targets) # Here is a typical loss function (negative log likelihood)\n",
    "        loss.backward()\n",
    "        optimizerCNN.step()\n",
    "        \n",
    "        if batch_idx % 10 == 0: # We record our output every 10 batches\n",
    "            train_losses.append(loss.item()) # item() is to get the value of the tensor directly\n",
    "            train_counter.append((batch_idx*64) + ((epoch-1)*len(train_loader.dataset)))\n",
    "        if batch_idx % 100 == 0: # We visulize our output every 10 batches\n",
    "            print(f'Epoch {epoch}: [{batch_idx*len(images)}/{len(train_loader.dataset)}] Loss: {loss.item()}')\n",
    "\n",
    "\n",
    "def test(classifier, epoch):\n",
    "    classifier.eval() # we need to set the mode for our model\n",
    "    test_loss = 0\n",
    "    correct = 0\n",
    "    \n",
    "    with torch.no_grad():\n",
    "        for images, targets in test_loader:\n",
    "            output = classifier(images)\n",
    "            test_loss += F.nll_loss(output, targets, reduction='sum').item()\n",
    "            pred = output.data.max(1, keepdim=True)[1] # we get the estimate of our result by look at the largest class value\n",
    "            correct += pred.eq(targets.data.view_as(pred)).sum() # sum up the corrected samples\n",
    "\n",
    "            if(pred.eq(targets.data.view_as(pred)).shape[0]/2 > pred.eq(targets.data.view_as(pred)).sum()):\n",
    "                _images.append(images)\n",
    "                _targets.append(targets)\n",
    "                _output.append(output)\n",
    "  \n",
    "    test_loss /= len(test_loader.dataset)\n",
    "    test_losses.append(test_loss)\n",
    "    test_counter.append(len(train_loader.dataset)*epoch)\n",
    "\n",
    "    print(f'Test result on epoch {epoch}: Avg loss is {test_loss}, Accuracy: {100.*correct/len(test_loader.dataset)}%')"
   ]
  },
  {
   "cell_type": "code",
   "execution_count": 258,
   "metadata": {},
   "outputs": [],
   "source": [
    "classifierCNN = OurCNN()\n",
    "\n",
    "optimizerCNN = optim.SGD(classifierCNN.parameters(), lr=0.01, momentum=0.8)\n",
    "\n",
    "train_losses = []\n",
    "train_counter = []\n",
    "test_losses = []\n",
    "test_counter = []\n",
    "max_epoch = 10\n",
    "\n",
    "_images = []\n",
    "_targets = []\n",
    "_output = []"
   ]
  },
  {
   "cell_type": "code",
   "execution_count": 259,
   "metadata": {
    "id": "cRuEf8tAlnsP"
   },
   "outputs": [
    {
     "name": "stdout",
     "output_type": "stream",
     "text": [
      "Epoch 1: [0/50000] Loss: 2.304591178894043\n",
      "Epoch 1: [6400/50000] Loss: 2.299072027206421\n",
      "Epoch 1: [12800/50000] Loss: 2.202150821685791\n",
      "Epoch 1: [19200/50000] Loss: 2.004896402359009\n",
      "Epoch 1: [25600/50000] Loss: 1.9935545921325684\n",
      "Epoch 1: [32000/50000] Loss: 1.9359965324401855\n",
      "Epoch 1: [38400/50000] Loss: 1.9499627351760864\n",
      "Epoch 1: [44800/50000] Loss: 1.948508620262146\n",
      "Test result on epoch 1: Avg loss is 1.8709885620117188, Accuracy: 35.33000183105469%\n",
      "Epoch 2: [0/50000] Loss: 1.9621700048446655\n",
      "Epoch 2: [6400/50000] Loss: 1.7076371908187866\n",
      "Epoch 2: [12800/50000] Loss: 1.5381193161010742\n",
      "Epoch 2: [19200/50000] Loss: 1.8669624328613281\n",
      "Epoch 2: [25600/50000] Loss: 1.6428872346878052\n",
      "Epoch 2: [32000/50000] Loss: 1.3562284708023071\n",
      "Epoch 2: [38400/50000] Loss: 1.3788524866104126\n",
      "Epoch 2: [44800/50000] Loss: 1.6027708053588867\n",
      "Test result on epoch 2: Avg loss is 1.429730908203125, Accuracy: 49.119998931884766%\n",
      "Epoch 3: [0/50000] Loss: 1.281722068786621\n",
      "Epoch 3: [6400/50000] Loss: 1.6269010305404663\n",
      "Epoch 3: [12800/50000] Loss: 1.1605674028396606\n",
      "Epoch 3: [19200/50000] Loss: 1.5327179431915283\n",
      "Epoch 3: [25600/50000] Loss: 1.3983114957809448\n",
      "Epoch 3: [32000/50000] Loss: 1.329913854598999\n",
      "Epoch 3: [38400/50000] Loss: 1.2708137035369873\n",
      "Epoch 3: [44800/50000] Loss: 1.3070502281188965\n",
      "Test result on epoch 3: Avg loss is 1.347917919921875, Accuracy: 50.91999816894531%\n",
      "Epoch 4: [0/50000] Loss: 1.2514314651489258\n",
      "Epoch 4: [6400/50000] Loss: 1.3010333776474\n",
      "Epoch 4: [12800/50000] Loss: 1.377985954284668\n",
      "Epoch 4: [19200/50000] Loss: 1.3337912559509277\n",
      "Epoch 4: [25600/50000] Loss: 1.1956214904785156\n",
      "Epoch 4: [32000/50000] Loss: 1.1797568798065186\n",
      "Epoch 4: [38400/50000] Loss: 1.2390949726104736\n",
      "Epoch 4: [44800/50000] Loss: 1.242339849472046\n",
      "Test result on epoch 4: Avg loss is 1.2565099365234376, Accuracy: 55.72999954223633%\n",
      "Epoch 5: [0/50000] Loss: 1.3509223461151123\n",
      "Epoch 5: [6400/50000] Loss: 1.235649824142456\n",
      "Epoch 5: [12800/50000] Loss: 1.0583022832870483\n",
      "Epoch 5: [19200/50000] Loss: 1.3989678621292114\n",
      "Epoch 5: [25600/50000] Loss: 1.196450114250183\n",
      "Epoch 5: [32000/50000] Loss: 1.1626430749893188\n",
      "Epoch 5: [38400/50000] Loss: 0.9458374977111816\n",
      "Epoch 5: [44800/50000] Loss: 1.0601166486740112\n",
      "Test result on epoch 5: Avg loss is 1.1714714477539063, Accuracy: 58.790000915527344%\n",
      "Epoch 6: [0/50000] Loss: 0.9895489811897278\n",
      "Epoch 6: [6400/50000] Loss: 1.0284019708633423\n",
      "Epoch 6: [12800/50000] Loss: 1.1749974489212036\n",
      "Epoch 6: [19200/50000] Loss: 1.339614748954773\n",
      "Epoch 6: [25600/50000] Loss: 1.1549957990646362\n",
      "Epoch 6: [32000/50000] Loss: 1.3885409832000732\n",
      "Epoch 6: [38400/50000] Loss: 1.1818828582763672\n",
      "Epoch 6: [44800/50000] Loss: 1.0727722644805908\n",
      "Test result on epoch 6: Avg loss is 1.1843881713867188, Accuracy: 58.40999984741211%\n",
      "Epoch 7: [0/50000] Loss: 1.310736894607544\n",
      "Epoch 7: [6400/50000] Loss: 0.9779998660087585\n",
      "Epoch 7: [12800/50000] Loss: 1.4278360605239868\n",
      "Epoch 7: [19200/50000] Loss: 0.9461607336997986\n",
      "Epoch 7: [25600/50000] Loss: 0.8788939118385315\n",
      "Epoch 7: [32000/50000] Loss: 0.9414349794387817\n",
      "Epoch 7: [38400/50000] Loss: 0.9848574995994568\n",
      "Epoch 7: [44800/50000] Loss: 1.0959173440933228\n",
      "Test result on epoch 7: Avg loss is 1.119172216796875, Accuracy: 60.709999084472656%\n",
      "Epoch 8: [0/50000] Loss: 0.8963746428489685\n",
      "Epoch 8: [6400/50000] Loss: 1.0759243965148926\n",
      "Epoch 8: [12800/50000] Loss: 0.7875061631202698\n",
      "Epoch 8: [19200/50000] Loss: 1.0813324451446533\n",
      "Epoch 8: [25600/50000] Loss: 1.1203577518463135\n",
      "Epoch 8: [32000/50000] Loss: 0.9337418675422668\n",
      "Epoch 8: [38400/50000] Loss: 1.1338013410568237\n",
      "Epoch 8: [44800/50000] Loss: 1.0716712474822998\n",
      "Test result on epoch 8: Avg loss is 1.236481103515625, Accuracy: 57.72999954223633%\n",
      "Epoch 9: [0/50000] Loss: 0.8723751902580261\n",
      "Epoch 9: [6400/50000] Loss: 0.7590051889419556\n",
      "Epoch 9: [12800/50000] Loss: 0.8572278022766113\n",
      "Epoch 9: [19200/50000] Loss: 0.8669979572296143\n",
      "Epoch 9: [25600/50000] Loss: 0.8303475975990295\n",
      "Epoch 9: [32000/50000] Loss: 0.941517174243927\n",
      "Epoch 9: [38400/50000] Loss: 0.9257141947746277\n",
      "Epoch 9: [44800/50000] Loss: 1.04508638381958\n",
      "Test result on epoch 9: Avg loss is 1.055145867919922, Accuracy: 63.22999954223633%\n",
      "Epoch 10: [0/50000] Loss: 0.8791682720184326\n",
      "Epoch 10: [6400/50000] Loss: 0.5651042461395264\n",
      "Epoch 10: [12800/50000] Loss: 0.968562126159668\n",
      "Epoch 10: [19200/50000] Loss: 0.8606730699539185\n",
      "Epoch 10: [25600/50000] Loss: 0.9273462891578674\n",
      "Epoch 10: [32000/50000] Loss: 0.6921595931053162\n",
      "Epoch 10: [38400/50000] Loss: 1.2152265310287476\n",
      "Epoch 10: [44800/50000] Loss: 0.884882390499115\n",
      "Test result on epoch 10: Avg loss is 1.0575699340820313, Accuracy: 63.540000915527344%\n"
     ]
    }
   ],
   "source": [
    "# ----------- <Your code> ---------------\n",
    "\n",
    "for epoch in range(1, max_epoch+1):\n",
    "    train(classifierCNN, epoch)\n",
    "    test(classifierCNN, epoch)"
   ]
  },
  {
   "cell_type": "code",
   "execution_count": 99,
   "metadata": {},
   "outputs": [
    {
     "data": {
      "text/plain": [
       "Text(0.5, 1.0, 'Train and Test Likelihood Outcome over Training Period')"
      ]
     },
     "execution_count": 99,
     "metadata": {},
     "output_type": "execute_result"
    },
    {
     "data": {
      "image/png": "[encoded data removed]",
      "text/plain": [
       "<Figure size 864x360 with 1 Axes>"
      ]
     },
     "metadata": {
      "needs_background": "light"
     },
     "output_type": "display_data"
    }
   ],
   "source": [
    "# ----------- <Your code> ---------------\n",
    "fig = plt.figure(figsize=(12,5))\n",
    "plt.plot(train_counter, train_losses, color='blue')\n",
    "plt.scatter(test_counter, test_losses, color='red')\n",
    "plt.legend(['Loss of Training', 'Loss of Testing'], loc='upper right')\n",
    "plt.xlabel('# of Training Examples')\n",
    "plt.ylabel('Negative likelihood log loss')\n",
    "plt.title('Train and Test Likelihood Outcome over Training Period')"
   ]
  },
  {
   "cell_type": "markdown",
   "metadata": {
    "id": "hS1mXr9Cl6pM"
   },
   "source": [
    "### Task 3: Plot misclassified test images\n",
    "Plot some misclassified images in your test dataset:\n",
    "\n",
    "*   select three images that are **misclassified** by your neural network\n",
    "*   label each images with true label and predicted label\n",
    "\n"
   ]
  },
  {
   "cell_type": "code",
   "execution_count": 292,
   "metadata": {
    "id": "xd8vWof8nIHw"
   },
   "outputs": [
    {
     "data": {
      "image/png": "[encoded data removed]",
      "text/plain": [
       "<Figure size 432x288 with 1 Axes>"
      ]
     },
     "metadata": {
      "needs_background": "light"
     },
     "output_type": "display_data"
    },
    {
     "data": {
      "image/png": "[encoded data removed]",
      "text/plain": [
       "<Figure size 432x288 with 1 Axes>"
      ]
     },
     "metadata": {
      "needs_background": "light"
     },
     "output_type": "display_data"
    },
    {
     "data": {
      "image/png": "[encoded data removed]",
      "text/plain": [
       "<Figure size 432x288 with 1 Axes>"
      ]
     },
     "metadata": {
      "needs_background": "light"
     },
     "output_type": "display_data"
    }
   ],
   "source": [
    "import math\n",
    "\n",
    "for i in range(3):    \n",
    "    plt.imshow(_images[i*3+1][0][0])\n",
    "    plt.title(f'True Label: {classes[_targets[i*3+1][0]]}, Predicted Label: {classes[math.floor(_output[i*3+1][0][0])]}')\n",
    "    plt.show()\n"
   ]
  },
  {
   "cell_type": "markdown",
   "metadata": {
    "id": "v5oMKOrhmfpM"
   },
   "source": [
    "Questions (0 points): Are the mis-classified images also misleading to human eyes?"
   ]
  },
  {
   "cell_type": "markdown",
   "metadata": {
    "id": "INN54zXpTcZw"
   },
   "source": [
    "## Exercise 3: Transfer Learning (30 points)"
   ]
  },
  {
   "cell_type": "markdown",
   "metadata": {
    "id": "IgDHswfp0k7m"
   },
   "source": [
    "In practice, people won't train an entire CNN from scratch, because it is relatively rare to have a dataset of sufficient size (or sufficient computational power). Instead, it is common to pretrain a CNN on a very large dataset and then use the CNN either as an initialization or a fixed feature extractor for the task of interest.\n",
    "\n",
    "In this task, you will learn how to use a pretrained CNN for CIFAR-10 classification."
   ]
  },
  {
   "cell_type": "markdown",
   "metadata": {
    "id": "f21CjwoW8ty5"
   },
   "source": [
    "### Task1: Load pretrained model"
   ]
  },
  {
   "cell_type": "markdown",
   "metadata": {
    "id": "VZ-21Pv183TX"
   },
   "source": [
    "`torchvision.models` (https://pytorch.org/vision/stable/models.html) contains definitions of models for addressing different tasks, including: image classification, pixelwise semantic segmentation, object detection, instance segmentation, person keypoint detection and video classification.\n",
    "\n",
    "First, you should load the **pretrained** ResNet-18 that has already been trained on [ImageNet](https://www.image-net.org/) using `torchvision.models`. If you are interested in more details about Resnet-18, read this paper https://arxiv.org/pdf/1512.03385.pdf."
   ]
  },
  {
   "cell_type": "code",
   "execution_count": 306,
   "metadata": {
    "id": "KaHP0VfAVuDY"
   },
   "outputs": [],
   "source": [
    "# ----------- <Your code> ---------------\n",
    "import torchvision.models as models\n",
    "\n",
    "resnetClassifier = torchvision.models.resnet18(pretrained=True)\n"
   ]
  },
  {
   "cell_type": "markdown",
   "metadata": {
    "id": "MtQkZUZH84q8"
   },
   "source": [
    "### Task2: Create data loaders for CIFAR-10"
   ]
  },
  {
   "cell_type": "markdown",
   "metadata": {
    "id": "GTlRo-CJ4GQD"
   },
   "source": [
    "Then you need to create a dataloader of CIFAR-10. Note that the model you load has been trained on **ImageNet** and it expects inputs as mini-batches of 3-channel RGB images of shape (3 x H x W), where H and W are expected to be **at least** 224. So you need to preprocess the CIFAR-10 data to make sure it has a height and width. See [`torchvision.transforms.Resize`](https://pytorch.org/vision/stable/transforms.html#torchvision.transforms.Resize).\n",
    "You will probably want to add this transform appropriately to the `transform` you created in a previous task.\n"
   ]
  },
  {
   "cell_type": "code",
   "execution_count": 307,
   "metadata": {
    "id": "lhFys7OQV1Wj"
   },
   "outputs": [
    {
     "name": "stdout",
     "output_type": "stream",
     "text": [
      "Files already downloaded and verified\n",
      "Files already downloaded and verified\n",
      "<torch.utils.data.dataloader.DataLoader object at 0x0000017A7AFEED88>\n"
     ]
    }
   ],
   "source": [
    "# ----------- <Your code> ---------------\n",
    "\n",
    "transform = torchvision.transforms.Compose([torchvision.transforms.ToTensor(),\n",
    "                    torchvision.transforms.Resize(224),\n",
    "                      torchvision.transforms.Normalize((0.5, 0.5, 0.5), (0.5, 0.5, 0.5))])\n",
    "\n",
    "\n",
    "train_dataset = torchvision.datasets.CIFAR10('D:\\Jupyter\\ECE570\\Assignment-4', train=True,\n",
    "                                             download=True, transform=transform)\n",
    "test_dataset = torchvision.datasets.CIFAR10('D:\\Jupyter\\ECE570\\Assignment-4', train=False,\n",
    "                                            download=True, transform=transform)\n",
    "\n",
    "classes = ('plane', 'car', 'bird', 'cat', 'deer', 'dog', 'frog', 'horse', 'ship', 'truck')\n",
    "\n",
    "\n",
    "batch_size_train, batch_size_test = 64, 1000\n",
    "train_loader = torch.utils.data.DataLoader(train_dataset, batch_size=batch_size_train, shuffle=True) # 64 images per batch\n",
    "test_loader = torch.utils.data.DataLoader(test_dataset, batch_size=batch_size_test, shuffle=False) # 64 images per batch \n",
    "\n",
    "print(test_loader)\n"
   ]
  },
  {
   "cell_type": "markdown",
   "metadata": {
    "id": "k8nR_aBi9Atb"
   },
   "source": [
    "### Task3: Classify test data on pretrained model"
   ]
  },
  {
   "cell_type": "markdown",
   "metadata": {
    "id": "N8IXXu-J9grR"
   },
   "source": [
    "Use the model you load to classify the **test** CIFAR-10 data and print out the test accuracy.\n",
    "\n",
    "Don't be surprised if the accuracy is bad!"
   ]
  },
  {
   "cell_type": "code",
   "execution_count": 308,
   "metadata": {
    "id": "JOuCodyJ4FYp"
   },
   "outputs": [],
   "source": [
    "# ----------- <Your code> ---------------\n",
    "def train(classifier, epoch):\n",
    "    classifier.train() # we need to set the mode for our model\n",
    "\n",
    "    for batch_idx, (images, targets) in enumerate(train_loader):\n",
    "\n",
    "\n",
    "        #optimizerResnet.Zero_grad()\n",
    "        output = classifier(images)\n",
    "        loss = F.nll_loss(output, targets) # Here is a typical loss function (negative log likelihood)\n",
    "        loss.backward()\n",
    "        optimizerResnet.step()\n",
    "\n",
    "        \n",
    "        if batch_idx % 10 == 0: # We record our output every 10 batches\n",
    "            train_losses.append(loss.item()) # item() is to get the value of the tensor directly\n",
    "            train_counter.append((batch_idx*64) + ((epoch-1)*len(train_loader.dataset)))\n",
    "        if batch_idx % 100 == 0: # We visulize our output every 10 batches\n",
    "            print(f'Epoch {epoch}: [{batch_idx*len(images)}/{len(train_loader.dataset)}] Loss: {loss.item()}')\n",
    "\n",
    "def test(classifier, epoch):\n",
    "    classifier.eval() # we need to set the mode for our model\n",
    "    test_loss = 0\n",
    "    correct = 0\n",
    "    \n",
    "    with torch.no_grad():\n",
    "        for images, targets in test_loader:\n",
    "            output = classifier(images)\n",
    "            \n",
    "            test_loss += F.nll_loss(output, targets, reduction='sum').item()\n",
    "            pred = output.data.max(1, keepdim=True)[1] # we get the estimate of our result by look at the largest class value\n",
    "            \n",
    "            correct += pred.eq(targets.data.view_as(pred)).sum() # sum up the corrected samples\n",
    "  \n",
    "    test_loss /= len(test_loader.dataset)\n",
    "    test_losses.append(test_loss)\n",
    "    test_counter.append(len(train_loader.dataset)*epoch)\n",
    "    print(pred)\n",
    "    print(f'Test result on epoch {epoch}: Avg loss is {test_loss}, Accuracy: {100.*correct/len(test_loader.dataset)}%')\n",
    "\n"
   ]
  },
  {
   "cell_type": "code",
   "execution_count": 309,
   "metadata": {},
   "outputs": [
    {
     "ename": "RuntimeError",
     "evalue": "[enforce fail at ..\\c10\\core\\CPUAllocator.cpp:79] data. DefaultCPUAllocator: not enough memory: you tried to allocate 3211264000 bytes.",
     "output_type": "error",
     "traceback": [
      "\u001b[1;31m---------------------------------------------------------------------------\u001b[0m",
      "\u001b[1;31mRuntimeError\u001b[0m                              Traceback (most recent call last)",
      "\u001b[1;32m<ipython-input-309-48544c4e3206>\u001b[0m in \u001b[0;36m<module>\u001b[1;34m\u001b[0m\n\u001b[0;32m      6\u001b[0m \u001b[1;33m\u001b[0m\u001b[0m\n\u001b[0;32m      7\u001b[0m \u001b[1;32mfor\u001b[0m \u001b[0mepoch\u001b[0m \u001b[1;32min\u001b[0m \u001b[0mrange\u001b[0m\u001b[1;33m(\u001b[0m\u001b[1;36m1\u001b[0m\u001b[1;33m,\u001b[0m \u001b[0mmax_epoch\u001b[0m\u001b[1;33m+\u001b[0m\u001b[1;36m1\u001b[0m\u001b[1;33m)\u001b[0m\u001b[1;33m:\u001b[0m\u001b[1;33m\u001b[0m\u001b[1;33m\u001b[0m\u001b[0m\n\u001b[1;32m----> 8\u001b[1;33m     \u001b[0mtest\u001b[0m\u001b[1;33m(\u001b[0m\u001b[0mresnetClassifier\u001b[0m\u001b[1;33m,\u001b[0m \u001b[0mepoch\u001b[0m\u001b[1;33m)\u001b[0m\u001b[1;33m\u001b[0m\u001b[1;33m\u001b[0m\u001b[0m\n\u001b[0m",
      "\u001b[1;32m<ipython-input-308-35c320d3e475>\u001b[0m in \u001b[0;36mtest\u001b[1;34m(classifier, epoch)\u001b[0m\n\u001b[0;32m     26\u001b[0m     \u001b[1;32mwith\u001b[0m \u001b[0mtorch\u001b[0m\u001b[1;33m.\u001b[0m\u001b[0mno_grad\u001b[0m\u001b[1;33m(\u001b[0m\u001b[1;33m)\u001b[0m\u001b[1;33m:\u001b[0m\u001b[1;33m\u001b[0m\u001b[1;33m\u001b[0m\u001b[0m\n\u001b[0;32m     27\u001b[0m         \u001b[1;32mfor\u001b[0m \u001b[0mimages\u001b[0m\u001b[1;33m,\u001b[0m \u001b[0mtargets\u001b[0m \u001b[1;32min\u001b[0m \u001b[0mtest_loader\u001b[0m\u001b[1;33m:\u001b[0m\u001b[1;33m\u001b[0m\u001b[1;33m\u001b[0m\u001b[0m\n\u001b[1;32m---> 28\u001b[1;33m             \u001b[0moutput\u001b[0m \u001b[1;33m=\u001b[0m \u001b[0mclassifier\u001b[0m\u001b[1;33m(\u001b[0m\u001b[0mimages\u001b[0m\u001b[1;33m)\u001b[0m\u001b[1;33m\u001b[0m\u001b[1;33m\u001b[0m\u001b[0m\n\u001b[0m\u001b[0;32m     29\u001b[0m \u001b[1;33m\u001b[0m\u001b[0m\n\u001b[0;32m     30\u001b[0m             \u001b[0mtest_loss\u001b[0m \u001b[1;33m+=\u001b[0m \u001b[0mF\u001b[0m\u001b[1;33m.\u001b[0m\u001b[0mnll_loss\u001b[0m\u001b[1;33m(\u001b[0m\u001b[0moutput\u001b[0m\u001b[1;33m,\u001b[0m \u001b[0mtargets\u001b[0m\u001b[1;33m,\u001b[0m \u001b[0mreduction\u001b[0m\u001b[1;33m=\u001b[0m\u001b[1;34m'sum'\u001b[0m\u001b[1;33m)\u001b[0m\u001b[1;33m.\u001b[0m\u001b[0mitem\u001b[0m\u001b[1;33m(\u001b[0m\u001b[1;33m)\u001b[0m\u001b[1;33m\u001b[0m\u001b[1;33m\u001b[0m\u001b[0m\n",
      "\u001b[1;32mD:\\Anaconda3\\lib\\site-packages\\torch\\nn\\modules\\module.py\u001b[0m in \u001b[0;36m_call_impl\u001b[1;34m(self, *input, **kwargs)\u001b[0m\n\u001b[0;32m   1049\u001b[0m         if not (self._backward_hooks or self._forward_hooks or self._forward_pre_hooks or _global_backward_hooks\n\u001b[0;32m   1050\u001b[0m                 or _global_forward_hooks or _global_forward_pre_hooks):\n\u001b[1;32m-> 1051\u001b[1;33m             \u001b[1;32mreturn\u001b[0m \u001b[0mforward_call\u001b[0m\u001b[1;33m(\u001b[0m\u001b[1;33m*\u001b[0m\u001b[0minput\u001b[0m\u001b[1;33m,\u001b[0m \u001b[1;33m**\u001b[0m\u001b[0mkwargs\u001b[0m\u001b[1;33m)\u001b[0m\u001b[1;33m\u001b[0m\u001b[1;33m\u001b[0m\u001b[0m\n\u001b[0m\u001b[0;32m   1052\u001b[0m         \u001b[1;31m# Do not call functions when jit is used\u001b[0m\u001b[1;33m\u001b[0m\u001b[1;33m\u001b[0m\u001b[1;33m\u001b[0m\u001b[0m\n\u001b[0;32m   1053\u001b[0m         \u001b[0mfull_backward_hooks\u001b[0m\u001b[1;33m,\u001b[0m \u001b[0mnon_full_backward_hooks\u001b[0m \u001b[1;33m=\u001b[0m \u001b[1;33m[\u001b[0m\u001b[1;33m]\u001b[0m\u001b[1;33m,\u001b[0m \u001b[1;33m[\u001b[0m\u001b[1;33m]\u001b[0m\u001b[1;33m\u001b[0m\u001b[1;33m\u001b[0m\u001b[0m\n",
      "\u001b[1;32mD:\\Anaconda3\\lib\\site-packages\\torchvision\\models\\resnet.py\u001b[0m in \u001b[0;36mforward\u001b[1;34m(self, x)\u001b[0m\n\u001b[0;32m    247\u001b[0m \u001b[1;33m\u001b[0m\u001b[0m\n\u001b[0;32m    248\u001b[0m     \u001b[1;32mdef\u001b[0m \u001b[0mforward\u001b[0m\u001b[1;33m(\u001b[0m\u001b[0mself\u001b[0m\u001b[1;33m,\u001b[0m \u001b[0mx\u001b[0m\u001b[1;33m:\u001b[0m \u001b[0mTensor\u001b[0m\u001b[1;33m)\u001b[0m \u001b[1;33m->\u001b[0m \u001b[0mTensor\u001b[0m\u001b[1;33m:\u001b[0m\u001b[1;33m\u001b[0m\u001b[1;33m\u001b[0m\u001b[0m\n\u001b[1;32m--> 249\u001b[1;33m         \u001b[1;32mreturn\u001b[0m \u001b[0mself\u001b[0m\u001b[1;33m.\u001b[0m\u001b[0m_forward_impl\u001b[0m\u001b[1;33m(\u001b[0m\u001b[0mx\u001b[0m\u001b[1;33m)\u001b[0m\u001b[1;33m\u001b[0m\u001b[1;33m\u001b[0m\u001b[0m\n\u001b[0m\u001b[0;32m    250\u001b[0m \u001b[1;33m\u001b[0m\u001b[0m\n\u001b[0;32m    251\u001b[0m \u001b[1;33m\u001b[0m\u001b[0m\n",
      "\u001b[1;32mD:\\Anaconda3\\lib\\site-packages\\torchvision\\models\\resnet.py\u001b[0m in \u001b[0;36m_forward_impl\u001b[1;34m(self, x)\u001b[0m\n\u001b[0;32m    230\u001b[0m     \u001b[1;32mdef\u001b[0m \u001b[0m_forward_impl\u001b[0m\u001b[1;33m(\u001b[0m\u001b[0mself\u001b[0m\u001b[1;33m,\u001b[0m \u001b[0mx\u001b[0m\u001b[1;33m:\u001b[0m \u001b[0mTensor\u001b[0m\u001b[1;33m)\u001b[0m \u001b[1;33m->\u001b[0m \u001b[0mTensor\u001b[0m\u001b[1;33m:\u001b[0m\u001b[1;33m\u001b[0m\u001b[1;33m\u001b[0m\u001b[0m\n\u001b[0;32m    231\u001b[0m         \u001b[1;31m# See note [TorchScript super()]\u001b[0m\u001b[1;33m\u001b[0m\u001b[1;33m\u001b[0m\u001b[1;33m\u001b[0m\u001b[0m\n\u001b[1;32m--> 232\u001b[1;33m         \u001b[0mx\u001b[0m \u001b[1;33m=\u001b[0m \u001b[0mself\u001b[0m\u001b[1;33m.\u001b[0m\u001b[0mconv1\u001b[0m\u001b[1;33m(\u001b[0m\u001b[0mx\u001b[0m\u001b[1;33m)\u001b[0m\u001b[1;33m\u001b[0m\u001b[1;33m\u001b[0m\u001b[0m\n\u001b[0m\u001b[0;32m    233\u001b[0m         \u001b[0mx\u001b[0m \u001b[1;33m=\u001b[0m \u001b[0mself\u001b[0m\u001b[1;33m.\u001b[0m\u001b[0mbn1\u001b[0m\u001b[1;33m(\u001b[0m\u001b[0mx\u001b[0m\u001b[1;33m)\u001b[0m\u001b[1;33m\u001b[0m\u001b[1;33m\u001b[0m\u001b[0m\n\u001b[0;32m    234\u001b[0m         \u001b[0mx\u001b[0m \u001b[1;33m=\u001b[0m \u001b[0mself\u001b[0m\u001b[1;33m.\u001b[0m\u001b[0mrelu\u001b[0m\u001b[1;33m(\u001b[0m\u001b[0mx\u001b[0m\u001b[1;33m)\u001b[0m\u001b[1;33m\u001b[0m\u001b[1;33m\u001b[0m\u001b[0m\n",
      "\u001b[1;32mD:\\Anaconda3\\lib\\site-packages\\torch\\nn\\modules\\module.py\u001b[0m in \u001b[0;36m_call_impl\u001b[1;34m(self, *input, **kwargs)\u001b[0m\n\u001b[0;32m   1049\u001b[0m         if not (self._backward_hooks or self._forward_hooks or self._forward_pre_hooks or _global_backward_hooks\n\u001b[0;32m   1050\u001b[0m                 or _global_forward_hooks or _global_forward_pre_hooks):\n\u001b[1;32m-> 1051\u001b[1;33m             \u001b[1;32mreturn\u001b[0m \u001b[0mforward_call\u001b[0m\u001b[1;33m(\u001b[0m\u001b[1;33m*\u001b[0m\u001b[0minput\u001b[0m\u001b[1;33m,\u001b[0m \u001b[1;33m**\u001b[0m\u001b[0mkwargs\u001b[0m\u001b[1;33m)\u001b[0m\u001b[1;33m\u001b[0m\u001b[1;33m\u001b[0m\u001b[0m\n\u001b[0m\u001b[0;32m   1052\u001b[0m         \u001b[1;31m# Do not call functions when jit is used\u001b[0m\u001b[1;33m\u001b[0m\u001b[1;33m\u001b[0m\u001b[1;33m\u001b[0m\u001b[0m\n\u001b[0;32m   1053\u001b[0m         \u001b[0mfull_backward_hooks\u001b[0m\u001b[1;33m,\u001b[0m \u001b[0mnon_full_backward_hooks\u001b[0m \u001b[1;33m=\u001b[0m \u001b[1;33m[\u001b[0m\u001b[1;33m]\u001b[0m\u001b[1;33m,\u001b[0m \u001b[1;33m[\u001b[0m\u001b[1;33m]\u001b[0m\u001b[1;33m\u001b[0m\u001b[1;33m\u001b[0m\u001b[0m\n",
      "\u001b[1;32mD:\\Anaconda3\\lib\\site-packages\\torch\\nn\\modules\\conv.py\u001b[0m in \u001b[0;36mforward\u001b[1;34m(self, input)\u001b[0m\n\u001b[0;32m    441\u001b[0m \u001b[1;33m\u001b[0m\u001b[0m\n\u001b[0;32m    442\u001b[0m     \u001b[1;32mdef\u001b[0m \u001b[0mforward\u001b[0m\u001b[1;33m(\u001b[0m\u001b[0mself\u001b[0m\u001b[1;33m,\u001b[0m \u001b[0minput\u001b[0m\u001b[1;33m:\u001b[0m \u001b[0mTensor\u001b[0m\u001b[1;33m)\u001b[0m \u001b[1;33m->\u001b[0m \u001b[0mTensor\u001b[0m\u001b[1;33m:\u001b[0m\u001b[1;33m\u001b[0m\u001b[1;33m\u001b[0m\u001b[0m\n\u001b[1;32m--> 443\u001b[1;33m         \u001b[1;32mreturn\u001b[0m \u001b[0mself\u001b[0m\u001b[1;33m.\u001b[0m\u001b[0m_conv_forward\u001b[0m\u001b[1;33m(\u001b[0m\u001b[0minput\u001b[0m\u001b[1;33m,\u001b[0m \u001b[0mself\u001b[0m\u001b[1;33m.\u001b[0m\u001b[0mweight\u001b[0m\u001b[1;33m,\u001b[0m \u001b[0mself\u001b[0m\u001b[1;33m.\u001b[0m\u001b[0mbias\u001b[0m\u001b[1;33m)\u001b[0m\u001b[1;33m\u001b[0m\u001b[1;33m\u001b[0m\u001b[0m\n\u001b[0m\u001b[0;32m    444\u001b[0m \u001b[1;33m\u001b[0m\u001b[0m\n\u001b[0;32m    445\u001b[0m \u001b[1;32mclass\u001b[0m \u001b[0mConv3d\u001b[0m\u001b[1;33m(\u001b[0m\u001b[0m_ConvNd\u001b[0m\u001b[1;33m)\u001b[0m\u001b[1;33m:\u001b[0m\u001b[1;33m\u001b[0m\u001b[1;33m\u001b[0m\u001b[0m\n",
      "\u001b[1;32mD:\\Anaconda3\\lib\\site-packages\\torch\\nn\\modules\\conv.py\u001b[0m in \u001b[0;36m_conv_forward\u001b[1;34m(self, input, weight, bias)\u001b[0m\n\u001b[0;32m    438\u001b[0m                             _pair(0), self.dilation, self.groups)\n\u001b[0;32m    439\u001b[0m         return F.conv2d(input, weight, bias, self.stride,\n\u001b[1;32m--> 440\u001b[1;33m                         self.padding, self.dilation, self.groups)\n\u001b[0m\u001b[0;32m    441\u001b[0m \u001b[1;33m\u001b[0m\u001b[0m\n\u001b[0;32m    442\u001b[0m     \u001b[1;32mdef\u001b[0m \u001b[0mforward\u001b[0m\u001b[1;33m(\u001b[0m\u001b[0mself\u001b[0m\u001b[1;33m,\u001b[0m \u001b[0minput\u001b[0m\u001b[1;33m:\u001b[0m \u001b[0mTensor\u001b[0m\u001b[1;33m)\u001b[0m \u001b[1;33m->\u001b[0m \u001b[0mTensor\u001b[0m\u001b[1;33m:\u001b[0m\u001b[1;33m\u001b[0m\u001b[1;33m\u001b[0m\u001b[0m\n",
      "\u001b[1;31mRuntimeError\u001b[0m: [enforce fail at ..\\c10\\core\\CPUAllocator.cpp:79] data. DefaultCPUAllocator: not enough memory: you tried to allocate 3211264000 bytes."
     ]
    }
   ],
   "source": [
    "\n",
    "train_losses = []\n",
    "train_counter = []\n",
    "test_losses = []\n",
    "test_counter = []\n",
    "max_epoch = 2\n",
    "\n",
    "for epoch in range(1, max_epoch+1):\n",
    "    test(resnetClassifier, epoch)"
   ]
  },
  {
   "cell_type": "markdown",
   "metadata": {
    "id": "ETLezHR0-ByE"
   },
   "source": [
    "### Task 4: Update model for CIFAR-10"
   ]
  },
  {
   "cell_type": "markdown",
   "metadata": {
    "id": "BbQrsL-U-Faq"
   },
   "source": [
    "Now try to improve the test accuracy. We offer several possible solutions:\n",
    "\n",
    "(1) You can try to directly continue to train the model you load with the CIFAR-10 training data. \n",
    "\n",
    "(2) For efficiency, you can try to freeze part of the parameters of the loaded models. For example, you can first freeze all parameters by\n",
    "\n",
    "```\n",
    "for param in model.parameters():\n",
    "    param.requires_grad = False\n",
    "```\n",
    "and then unfreeze the last few layers by setting `somelayer.requires_grad=True`.\n",
    "\n",
    "You are also welcome to try any other approach you can think of.\n",
    "\n",
    "\n",
    "**Note:** You should print out the test accuracy and to get full credits, the test accuracy should be at least **80%**."
   ]
  },
  {
   "cell_type": "code",
   "execution_count": 310,
   "metadata": {},
   "outputs": [],
   "source": [
    "ct = 0\n",
    "for child in resnetClassifier.children():\n",
    "    ct += 1\n",
    "    if ct < 9:\n",
    "        for param in child.parameters():\n",
    "            param.requires_grad = False\n",
    "    \n"
   ]
  },
  {
   "cell_type": "code",
   "execution_count": 311,
   "metadata": {
    "id": "D2H2oDDyWv8t"
   },
   "outputs": [
    {
     "name": "stdout",
     "output_type": "stream",
     "text": [
      "Epoch 1: [0/50000] Loss: 0.5770672559738159\n",
      "Epoch 1: [6400/50000] Loss: -10031.7314453125\n",
      "Epoch 1: [12800/50000] Loss: -41386.87890625\n",
      "Epoch 1: [19200/50000] Loss: -94123.03125\n",
      "Epoch 1: [25600/50000] Loss: -168146.703125\n",
      "Epoch 1: [32000/50000] Loss: -260418.0\n",
      "Epoch 1: [38400/50000] Loss: -382227.15625\n",
      "Epoch 1: [44800/50000] Loss: -512422.9375\n"
     ]
    },
    {
     "ename": "RuntimeError",
     "evalue": "[enforce fail at ..\\c10\\core\\CPUAllocator.cpp:79] data. DefaultCPUAllocator: not enough memory: you tried to allocate 3211264000 bytes.",
     "output_type": "error",
     "traceback": [
      "\u001b[1;31m---------------------------------------------------------------------------\u001b[0m",
      "\u001b[1;31mRuntimeError\u001b[0m                              Traceback (most recent call last)",
      "\u001b[1;32m<ipython-input-311-82a806b931e9>\u001b[0m in \u001b[0;36m<module>\u001b[1;34m\u001b[0m\n\u001b[0;32m     20\u001b[0m \u001b[1;32mfor\u001b[0m \u001b[0mepoch\u001b[0m \u001b[1;32min\u001b[0m \u001b[0mrange\u001b[0m\u001b[1;33m(\u001b[0m\u001b[1;36m1\u001b[0m\u001b[1;33m,\u001b[0m \u001b[0mmax_epoch\u001b[0m\u001b[1;33m+\u001b[0m\u001b[1;36m1\u001b[0m\u001b[1;33m)\u001b[0m\u001b[1;33m:\u001b[0m\u001b[1;33m\u001b[0m\u001b[1;33m\u001b[0m\u001b[0m\n\u001b[0;32m     21\u001b[0m     \u001b[0mtrain\u001b[0m\u001b[1;33m(\u001b[0m\u001b[0mresnetClassifier\u001b[0m\u001b[1;33m,\u001b[0m \u001b[0mepoch\u001b[0m\u001b[1;33m)\u001b[0m\u001b[1;33m\u001b[0m\u001b[1;33m\u001b[0m\u001b[0m\n\u001b[1;32m---> 22\u001b[1;33m     \u001b[0mtest\u001b[0m\u001b[1;33m(\u001b[0m\u001b[0mresnetClassifier\u001b[0m\u001b[1;33m,\u001b[0m \u001b[0mepoch\u001b[0m\u001b[1;33m)\u001b[0m\u001b[1;33m\u001b[0m\u001b[1;33m\u001b[0m\u001b[0m\n\u001b[0m\u001b[0;32m     23\u001b[0m \u001b[1;33m\u001b[0m\u001b[0m\n\u001b[0;32m     24\u001b[0m \u001b[1;31m# Unfreaze the last 12 paramaters\u001b[0m\u001b[1;33m\u001b[0m\u001b[1;33m\u001b[0m\u001b[1;33m\u001b[0m\u001b[0m\n",
      "\u001b[1;32m<ipython-input-308-35c320d3e475>\u001b[0m in \u001b[0;36mtest\u001b[1;34m(classifier, epoch)\u001b[0m\n\u001b[0;32m     26\u001b[0m     \u001b[1;32mwith\u001b[0m \u001b[0mtorch\u001b[0m\u001b[1;33m.\u001b[0m\u001b[0mno_grad\u001b[0m\u001b[1;33m(\u001b[0m\u001b[1;33m)\u001b[0m\u001b[1;33m:\u001b[0m\u001b[1;33m\u001b[0m\u001b[1;33m\u001b[0m\u001b[0m\n\u001b[0;32m     27\u001b[0m         \u001b[1;32mfor\u001b[0m \u001b[0mimages\u001b[0m\u001b[1;33m,\u001b[0m \u001b[0mtargets\u001b[0m \u001b[1;32min\u001b[0m \u001b[0mtest_loader\u001b[0m\u001b[1;33m:\u001b[0m\u001b[1;33m\u001b[0m\u001b[1;33m\u001b[0m\u001b[0m\n\u001b[1;32m---> 28\u001b[1;33m             \u001b[0moutput\u001b[0m \u001b[1;33m=\u001b[0m \u001b[0mclassifier\u001b[0m\u001b[1;33m(\u001b[0m\u001b[0mimages\u001b[0m\u001b[1;33m)\u001b[0m\u001b[1;33m\u001b[0m\u001b[1;33m\u001b[0m\u001b[0m\n\u001b[0m\u001b[0;32m     29\u001b[0m \u001b[1;33m\u001b[0m\u001b[0m\n\u001b[0;32m     30\u001b[0m             \u001b[0mtest_loss\u001b[0m \u001b[1;33m+=\u001b[0m \u001b[0mF\u001b[0m\u001b[1;33m.\u001b[0m\u001b[0mnll_loss\u001b[0m\u001b[1;33m(\u001b[0m\u001b[0moutput\u001b[0m\u001b[1;33m,\u001b[0m \u001b[0mtargets\u001b[0m\u001b[1;33m,\u001b[0m \u001b[0mreduction\u001b[0m\u001b[1;33m=\u001b[0m\u001b[1;34m'sum'\u001b[0m\u001b[1;33m)\u001b[0m\u001b[1;33m.\u001b[0m\u001b[0mitem\u001b[0m\u001b[1;33m(\u001b[0m\u001b[1;33m)\u001b[0m\u001b[1;33m\u001b[0m\u001b[1;33m\u001b[0m\u001b[0m\n",
      "\u001b[1;32mD:\\Anaconda3\\lib\\site-packages\\torch\\nn\\modules\\module.py\u001b[0m in \u001b[0;36m_call_impl\u001b[1;34m(self, *input, **kwargs)\u001b[0m\n\u001b[0;32m   1049\u001b[0m         if not (self._backward_hooks or self._forward_hooks or self._forward_pre_hooks or _global_backward_hooks\n\u001b[0;32m   1050\u001b[0m                 or _global_forward_hooks or _global_forward_pre_hooks):\n\u001b[1;32m-> 1051\u001b[1;33m             \u001b[1;32mreturn\u001b[0m \u001b[0mforward_call\u001b[0m\u001b[1;33m(\u001b[0m\u001b[1;33m*\u001b[0m\u001b[0minput\u001b[0m\u001b[1;33m,\u001b[0m \u001b[1;33m**\u001b[0m\u001b[0mkwargs\u001b[0m\u001b[1;33m)\u001b[0m\u001b[1;33m\u001b[0m\u001b[1;33m\u001b[0m\u001b[0m\n\u001b[0m\u001b[0;32m   1052\u001b[0m         \u001b[1;31m# Do not call functions when jit is used\u001b[0m\u001b[1;33m\u001b[0m\u001b[1;33m\u001b[0m\u001b[1;33m\u001b[0m\u001b[0m\n\u001b[0;32m   1053\u001b[0m         \u001b[0mfull_backward_hooks\u001b[0m\u001b[1;33m,\u001b[0m \u001b[0mnon_full_backward_hooks\u001b[0m \u001b[1;33m=\u001b[0m \u001b[1;33m[\u001b[0m\u001b[1;33m]\u001b[0m\u001b[1;33m,\u001b[0m \u001b[1;33m[\u001b[0m\u001b[1;33m]\u001b[0m\u001b[1;33m\u001b[0m\u001b[1;33m\u001b[0m\u001b[0m\n",
      "\u001b[1;32mD:\\Anaconda3\\lib\\site-packages\\torchvision\\models\\resnet.py\u001b[0m in \u001b[0;36mforward\u001b[1;34m(self, x)\u001b[0m\n\u001b[0;32m    247\u001b[0m \u001b[1;33m\u001b[0m\u001b[0m\n\u001b[0;32m    248\u001b[0m     \u001b[1;32mdef\u001b[0m \u001b[0mforward\u001b[0m\u001b[1;33m(\u001b[0m\u001b[0mself\u001b[0m\u001b[1;33m,\u001b[0m \u001b[0mx\u001b[0m\u001b[1;33m:\u001b[0m \u001b[0mTensor\u001b[0m\u001b[1;33m)\u001b[0m \u001b[1;33m->\u001b[0m \u001b[0mTensor\u001b[0m\u001b[1;33m:\u001b[0m\u001b[1;33m\u001b[0m\u001b[1;33m\u001b[0m\u001b[0m\n\u001b[1;32m--> 249\u001b[1;33m         \u001b[1;32mreturn\u001b[0m \u001b[0mself\u001b[0m\u001b[1;33m.\u001b[0m\u001b[0m_forward_impl\u001b[0m\u001b[1;33m(\u001b[0m\u001b[0mx\u001b[0m\u001b[1;33m)\u001b[0m\u001b[1;33m\u001b[0m\u001b[1;33m\u001b[0m\u001b[0m\n\u001b[0m\u001b[0;32m    250\u001b[0m \u001b[1;33m\u001b[0m\u001b[0m\n\u001b[0;32m    251\u001b[0m \u001b[1;33m\u001b[0m\u001b[0m\n",
      "\u001b[1;32mD:\\Anaconda3\\lib\\site-packages\\torchvision\\models\\resnet.py\u001b[0m in \u001b[0;36m_forward_impl\u001b[1;34m(self, x)\u001b[0m\n\u001b[0;32m    230\u001b[0m     \u001b[1;32mdef\u001b[0m \u001b[0m_forward_impl\u001b[0m\u001b[1;33m(\u001b[0m\u001b[0mself\u001b[0m\u001b[1;33m,\u001b[0m \u001b[0mx\u001b[0m\u001b[1;33m:\u001b[0m \u001b[0mTensor\u001b[0m\u001b[1;33m)\u001b[0m \u001b[1;33m->\u001b[0m \u001b[0mTensor\u001b[0m\u001b[1;33m:\u001b[0m\u001b[1;33m\u001b[0m\u001b[1;33m\u001b[0m\u001b[0m\n\u001b[0;32m    231\u001b[0m         \u001b[1;31m# See note [TorchScript super()]\u001b[0m\u001b[1;33m\u001b[0m\u001b[1;33m\u001b[0m\u001b[1;33m\u001b[0m\u001b[0m\n\u001b[1;32m--> 232\u001b[1;33m         \u001b[0mx\u001b[0m \u001b[1;33m=\u001b[0m \u001b[0mself\u001b[0m\u001b[1;33m.\u001b[0m\u001b[0mconv1\u001b[0m\u001b[1;33m(\u001b[0m\u001b[0mx\u001b[0m\u001b[1;33m)\u001b[0m\u001b[1;33m\u001b[0m\u001b[1;33m\u001b[0m\u001b[0m\n\u001b[0m\u001b[0;32m    233\u001b[0m         \u001b[0mx\u001b[0m \u001b[1;33m=\u001b[0m \u001b[0mself\u001b[0m\u001b[1;33m.\u001b[0m\u001b[0mbn1\u001b[0m\u001b[1;33m(\u001b[0m\u001b[0mx\u001b[0m\u001b[1;33m)\u001b[0m\u001b[1;33m\u001b[0m\u001b[1;33m\u001b[0m\u001b[0m\n\u001b[0;32m    234\u001b[0m         \u001b[0mx\u001b[0m \u001b[1;33m=\u001b[0m \u001b[0mself\u001b[0m\u001b[1;33m.\u001b[0m\u001b[0mrelu\u001b[0m\u001b[1;33m(\u001b[0m\u001b[0mx\u001b[0m\u001b[1;33m)\u001b[0m\u001b[1;33m\u001b[0m\u001b[1;33m\u001b[0m\u001b[0m\n",
      "\u001b[1;32mD:\\Anaconda3\\lib\\site-packages\\torch\\nn\\modules\\module.py\u001b[0m in \u001b[0;36m_call_impl\u001b[1;34m(self, *input, **kwargs)\u001b[0m\n\u001b[0;32m   1049\u001b[0m         if not (self._backward_hooks or self._forward_hooks or self._forward_pre_hooks or _global_backward_hooks\n\u001b[0;32m   1050\u001b[0m                 or _global_forward_hooks or _global_forward_pre_hooks):\n\u001b[1;32m-> 1051\u001b[1;33m             \u001b[1;32mreturn\u001b[0m \u001b[0mforward_call\u001b[0m\u001b[1;33m(\u001b[0m\u001b[1;33m*\u001b[0m\u001b[0minput\u001b[0m\u001b[1;33m,\u001b[0m \u001b[1;33m**\u001b[0m\u001b[0mkwargs\u001b[0m\u001b[1;33m)\u001b[0m\u001b[1;33m\u001b[0m\u001b[1;33m\u001b[0m\u001b[0m\n\u001b[0m\u001b[0;32m   1052\u001b[0m         \u001b[1;31m# Do not call functions when jit is used\u001b[0m\u001b[1;33m\u001b[0m\u001b[1;33m\u001b[0m\u001b[1;33m\u001b[0m\u001b[0m\n\u001b[0;32m   1053\u001b[0m         \u001b[0mfull_backward_hooks\u001b[0m\u001b[1;33m,\u001b[0m \u001b[0mnon_full_backward_hooks\u001b[0m \u001b[1;33m=\u001b[0m \u001b[1;33m[\u001b[0m\u001b[1;33m]\u001b[0m\u001b[1;33m,\u001b[0m \u001b[1;33m[\u001b[0m\u001b[1;33m]\u001b[0m\u001b[1;33m\u001b[0m\u001b[1;33m\u001b[0m\u001b[0m\n",
      "\u001b[1;32mD:\\Anaconda3\\lib\\site-packages\\torch\\nn\\modules\\conv.py\u001b[0m in \u001b[0;36mforward\u001b[1;34m(self, input)\u001b[0m\n\u001b[0;32m    441\u001b[0m \u001b[1;33m\u001b[0m\u001b[0m\n\u001b[0;32m    442\u001b[0m     \u001b[1;32mdef\u001b[0m \u001b[0mforward\u001b[0m\u001b[1;33m(\u001b[0m\u001b[0mself\u001b[0m\u001b[1;33m,\u001b[0m \u001b[0minput\u001b[0m\u001b[1;33m:\u001b[0m \u001b[0mTensor\u001b[0m\u001b[1;33m)\u001b[0m \u001b[1;33m->\u001b[0m \u001b[0mTensor\u001b[0m\u001b[1;33m:\u001b[0m\u001b[1;33m\u001b[0m\u001b[1;33m\u001b[0m\u001b[0m\n\u001b[1;32m--> 443\u001b[1;33m         \u001b[1;32mreturn\u001b[0m \u001b[0mself\u001b[0m\u001b[1;33m.\u001b[0m\u001b[0m_conv_forward\u001b[0m\u001b[1;33m(\u001b[0m\u001b[0minput\u001b[0m\u001b[1;33m,\u001b[0m \u001b[0mself\u001b[0m\u001b[1;33m.\u001b[0m\u001b[0mweight\u001b[0m\u001b[1;33m,\u001b[0m \u001b[0mself\u001b[0m\u001b[1;33m.\u001b[0m\u001b[0mbias\u001b[0m\u001b[1;33m)\u001b[0m\u001b[1;33m\u001b[0m\u001b[1;33m\u001b[0m\u001b[0m\n\u001b[0m\u001b[0;32m    444\u001b[0m \u001b[1;33m\u001b[0m\u001b[0m\n\u001b[0;32m    445\u001b[0m \u001b[1;32mclass\u001b[0m \u001b[0mConv3d\u001b[0m\u001b[1;33m(\u001b[0m\u001b[0m_ConvNd\u001b[0m\u001b[1;33m)\u001b[0m\u001b[1;33m:\u001b[0m\u001b[1;33m\u001b[0m\u001b[1;33m\u001b[0m\u001b[0m\n",
      "\u001b[1;32mD:\\Anaconda3\\lib\\site-packages\\torch\\nn\\modules\\conv.py\u001b[0m in \u001b[0;36m_conv_forward\u001b[1;34m(self, input, weight, bias)\u001b[0m\n\u001b[0;32m    438\u001b[0m                             _pair(0), self.dilation, self.groups)\n\u001b[0;32m    439\u001b[0m         return F.conv2d(input, weight, bias, self.stride,\n\u001b[1;32m--> 440\u001b[1;33m                         self.padding, self.dilation, self.groups)\n\u001b[0m\u001b[0;32m    441\u001b[0m \u001b[1;33m\u001b[0m\u001b[0m\n\u001b[0;32m    442\u001b[0m     \u001b[1;32mdef\u001b[0m \u001b[0mforward\u001b[0m\u001b[1;33m(\u001b[0m\u001b[0mself\u001b[0m\u001b[1;33m,\u001b[0m \u001b[0minput\u001b[0m\u001b[1;33m:\u001b[0m \u001b[0mTensor\u001b[0m\u001b[1;33m)\u001b[0m \u001b[1;33m->\u001b[0m \u001b[0mTensor\u001b[0m\u001b[1;33m:\u001b[0m\u001b[1;33m\u001b[0m\u001b[1;33m\u001b[0m\u001b[0m\n",
      "\u001b[1;31mRuntimeError\u001b[0m: [enforce fail at ..\\c10\\core\\CPUAllocator.cpp:79] data. DefaultCPUAllocator: not enough memory: you tried to allocate 3211264000 bytes."
     ]
    }
   ],
   "source": [
    "# ----------- <Your code> ---------------\n",
    "\n",
    "#for param in resnetClassifier.parameters():\n",
    "#    param.requires_grad = False\n",
    "\n",
    "train_losses = []\n",
    "train_counter = []\n",
    "test_losses = []\n",
    "test_counter = []\n",
    "max_epoch = 2\n",
    "ct = 0\n",
    "\n",
    "#for param in resnetClassifier.parameters():\n",
    "#    if count > 60:\n",
    "#        param.requires_grad=True\n",
    "#    count = count + 1\n",
    "\n",
    "optimizerResnet = optim.SGD(resnetClassifier.parameters(), lr=0.01, momentum=0.8)\n",
    "\n",
    "for epoch in range(1, max_epoch+1):\n",
    "    train(resnetClassifier, epoch)\n",
    "    test(resnetClassifier, epoch)\n",
    "    \n",
    "# Unfreaze the last 12 paramaters\n",
    "#for param in resnetClassifier.parameters():\n",
    " #   if count > 40:\n",
    "  #      param.requires_grad=True\n",
    "  #  count = count + 1\n",
    "\n",
    "#print(\"\\nTest Again\\n\")\n",
    "#for epoch in range(1, max_epoch+1):\n",
    " #   test(resnetClassifier, epoch)\n"
   ]
  }
 ],
 "metadata": {
  "accelerator": "GPU",
  "colab": {
   "collapsed_sections": [],
   "name": "Assignment_04_Exercise.ipynb",
   "provenance": []
  },
  "kernelspec": {
   "display_name": "Python 3",
   "language": "python",
   "name": "python3"
  },
  "language_info": {
   "codemirror_mode": {
    "name": "ipython",
    "version": 3
   },
   "file_extension": ".py",
   "mimetype": "text/x-python",
   "name": "python",
   "nbconvert_exporter": "python",
   "pygments_lexer": "ipython3",
   "version": "3.7.4"
  }
 },
 "nbformat": 4,
 "nbformat_minor": 1
}
