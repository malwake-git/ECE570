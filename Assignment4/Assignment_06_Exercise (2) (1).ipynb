{
 "cells": [
  {
   "cell_type": "markdown",
   "metadata": {
    "id": "zmwWs4S9cRIn"
   },
   "source": [
    "# ECE 570 Assignment 6 Exercise\n",
    "\n",
    "\n",
    "\n",
    "\n",
    "\n",
    "\n",
    "Your Name:"
   ]
  },
  {
   "cell_type": "markdown",
   "metadata": {
    "id": "Zz2T0QYYpwVR"
   },
   "source": [
    "## Exercise 1: Creating an image denoiser using a CNN autoencoder. (30 points)\n",
    "In this exercise you are trying to build a autoencoder with CNN layers that can denoise images. \n",
    "\n",
    "### Task 1: Create additive noise transform\n",
    "1. Add code to `AddGaussianNoise` transform class that will:\n",
    "  * Add additive Gaussian noise to the batch of input images (i.e add noise with gaussian distribution on each pixel). The noise for every pixel should have mean value 0 and standard deviation of 0.3, i.e $ \\epsilon \\sim N(0, 0.3)$.\n",
    "  * Clip the values to be between 0 and 1 again as they may be outside the range for pixel values after adding Gaussian noise.\n",
    "2. Plot the first 3 training images and their noisy counterparts in a 2x3 subplot with appropriate titles, figure size, label, etc.\n",
    "\n",
    "In this task, we concatenate the original dataset and noisy dataset and get a single dataloader. You should be careful with what you load at each iteration. In a more general case, there are many ways of dealing with multiple datasets. For example, you can create separate dataloaders and use ``zip`` to load samples from them. Here is a post discussing how to use ``zip`` [https://discuss.pytorch.org/t/two-dataloaders-from-two-different-datasets-within-the-same-loop/87766/1](https://discuss.pytorch.org/t/two-dataloaders-from-two-different-datasets-within-the-same-loop/87766/1). "
   ]
  },
  {
   "cell_type": "code",
   "execution_count": 101,
   "metadata": {
    "colab": {
     "base_uri": "https://localhost:8080/"
    },
    "executionInfo": {
     "elapsed": 537,
     "status": "ok",
     "timestamp": 1636086664222,
     "user": {
      "displayName": "Ahmad BIN Rabiah",
      "photoUrl": "https://lh3.googleusercontent.com/a/default-user=s64",
      "userId": "09793072170404114635"
     },
     "user_tz": 240
    },
    "id": "wTo6hwMo-6Ai",
    "outputId": "176168fc-6984-4310-d1a3-b819a5b4813a"
   },
   "outputs": [
    {
     "name": "stdout",
     "output_type": "stream",
     "text": [
      "1.0\n",
      "0.0\n"
     ]
    }
   ],
   "source": [
    "# Import and load MNIST data\n",
    "import torchvision\n",
    "import torch\n",
    "import matplotlib.pyplot as plt\n",
    "\n",
    "\n",
    "class AddGaussianNoise(object):\n",
    "\n",
    "  ###########################   <YOUR CODE>  ############################\n",
    "  def __init__(self, mean=0, std=0.3):\n",
    "    self.std = std\n",
    "    self.mean = mean\n",
    "          \n",
    "  def __call__(self, tensor):\n",
    "    noisy = tensor + torch.randn(tensor.size()) * self.std + self.mean\n",
    "    return torch.clamp(noisy,min=0,max = 1)\n",
    "\n",
    "\n",
    "  #########################  <END YOUR CODE>  ############################\n",
    "\n",
    "\n",
    "transform_noisy = torchvision.transforms.Compose([torchvision.transforms.ToTensor(), AddGaussianNoise(0.,0.3)])\n",
    "transform_original = torchvision.transforms.Compose([torchvision.transforms.ToTensor()])\n",
    "\n",
    "train_dataset_noisy = torchvision.datasets.MNIST('data', train=True, download=True, transform=transform_noisy)\n",
    "train_dataset_original = torchvision.datasets.MNIST('data', train=True, download=True, transform=transform_original)\n",
    "test_dataset_noisy = torchvision.datasets.MNIST('data', train=False, download=True, transform=transform_noisy)\n",
    "test_dataset_original = torchvision.datasets.MNIST('data', train=False, download=True, transform=transform_original)\n",
    "\n",
    "print(torch.max(train_dataset_noisy.__getitem__(0)[0]).item())\n",
    "print(torch.min(train_dataset_noisy.__getitem__(0)[0]).item())"
   ]
  },
  {
   "cell_type": "code",
   "execution_count": 102,
   "metadata": {
    "colab": {
     "base_uri": "https://localhost:8080/",
     "height": 498
    },
    "executionInfo": {
     "elapsed": 1098,
     "status": "ok",
     "timestamp": 1636086666757,
     "user": {
      "displayName": "Ahmad BIN Rabiah",
      "photoUrl": "https://lh3.googleusercontent.com/a/default-user=s64",
      "userId": "09793072170404114635"
     },
     "user_tz": 240
    },
    "id": "aVGreIhv8WKh",
    "outputId": "9b60514f-4b8f-487b-9e21-06b67f13b5ca"
   },
   "outputs": [
    {
     "data": {
      "image/png": "[encoded data removed]",
      "text/plain": [
       "<Figure size 864x576 with 6 Axes>"
      ]
     },
     "metadata": {
      "needs_background": "light"
     },
     "output_type": "display_data"
    }
   ],
   "source": [
    "class ConcatDataset(torch.utils.data.Dataset):\n",
    "  def __init__(self, *datasets):\n",
    "    self.datasets = datasets\n",
    "\n",
    "  def __getitem__(self, i):\n",
    "    return tuple(d[i] for d in self.datasets)\n",
    "\n",
    "  def __len__(self):\n",
    "    return min(len(d) for d in self.datasets)\n",
    "\n",
    "\n",
    "batch_size_train, batch_size_test = 64, 1000\n",
    "train_loader = torch.utils.data.DataLoader(ConcatDataset(train_dataset_noisy, train_dataset_original),\n",
    "                      batch_size=batch_size_train, shuffle=True)\n",
    "test_loader = torch.utils.data.DataLoader(ConcatDataset(test_dataset_noisy, test_dataset_original),\n",
    "                      batch_size=batch_size_test, shuffle=False)\n",
    "\n",
    "###########################   <YOUR CODE>  ############################\n",
    "# Plot the first 3 training images with corresponding noisy images \n",
    "\n",
    "_, (noisy, original) = next(enumerate(train_loader))\n",
    "\n",
    "fig,ax = plt.subplots(2,3)\n",
    "fig.set_size_inches(12,8)\n",
    "for idx in range(3):\n",
    "  ax[0,idx].imshow(noisy[0][idx][0], cmap='gray')\n",
    "  ax[0,idx].set_title(f'label is {noisy[1][idx]}')\n",
    "  ax[1,idx].imshow(original[0][idx][0], cmap='gray')\n",
    "  ax[1,idx].set_title(f'label is {original[1][idx]}')\n",
    "fig.show()\n",
    "\n",
    "\n",
    "\n",
    "\n",
    "\n",
    "\n",
    "\n",
    "\n",
    "#########################  <END YOUR CODE>  ############################"
   ]
  },
  {
   "cell_type": "markdown",
   "metadata": {
    "id": "DFKqew7r-E-q"
   },
   "source": [
    "### Task 2: Create and train a denoising autoencoder\n",
    "1. Build an autoencoder neural network structure with encoders and decoders that is a little more complicated than in the instructions. You can also create the network to have convolutional or transpose convolutional layers. (You can follow the instructions code skeleton with a key difference of using convolutional layers).\n",
    "2. Move your model to GPU so that you can train your model with GPU. (This step can be simultaneously implemented in the above step)\n",
    "3. Train your denoising autoencoder model with appropriate optimizer and **MSE** loss function. The loss function should be computed between the output of the noisy images and the clean images, i.e., $L(x, g(f(\\tilde{x})))$, where $\\tilde{x} = x + \\epsilon$ is the noisy image and $\\epsilon$ is the Gaussian niose. You should train your model with enough epochs so that your loss reaches a relatively steady value. **Note: Your loss on the test data should be lower than 20.** You may have to experiment with various model architectures to achieve this test loss.\n",
    "4. Visualize your result with a 3 x 3 grid of subplots. You should show 3 test images, 3 test images with noise added, and 3 test images reconstructed after passing your noisy test images through the DAE."
   ]
  },
  {
   "cell_type": "code",
   "execution_count": 104,
   "metadata": {
    "colab": {
     "base_uri": "https://localhost:8080/",
     "height": 1000
    },
    "executionInfo": {
     "elapsed": 153389,
     "status": "ok",
     "timestamp": 1636086854608,
     "user": {
      "displayName": "Ahmad BIN Rabiah",
      "photoUrl": "https://lh3.googleusercontent.com/a/default-user=s64",
      "userId": "09793072170404114635"
     },
     "user_tz": 240
    },
    "id": "FIVO5T4JgA_N",
    "outputId": "e165e397-2ddf-4d6a-a936-102916fcb7af"
   },
   "outputs": [
    {
     "name": "stdout",
     "output_type": "stream",
     "text": [
      "Epoch 1: [0/60000] Loss: 132.19300842285156\n",
      "Epoch 1: [6400/60000] Loss: 121.12434387207031\n",
      "Epoch 1: [12800/60000] Loss: 63.080806732177734\n",
      "Epoch 1: [19200/60000] Loss: 60.09614944458008\n",
      "Epoch 1: [25600/60000] Loss: 58.327659606933594\n",
      "Epoch 1: [32000/60000] Loss: 58.50870132446289\n",
      "Epoch 1: [38400/60000] Loss: 59.528053283691406\n",
      "Epoch 1: [44800/60000] Loss: 57.388397216796875\n",
      "Epoch 1: [51200/60000] Loss: 55.90739059448242\n",
      "Epoch 1: [57600/60000] Loss: 58.794158935546875\n",
      "Test result on epoch 1: Avg loss is 57.87069921875\n",
      "Epoch 2: [0/60000] Loss: 59.973365783691406\n",
      "Epoch 2: [6400/60000] Loss: 58.20949935913086\n",
      "Epoch 2: [12800/60000] Loss: 58.548851013183594\n",
      "Epoch 2: [19200/60000] Loss: 59.1182861328125\n",
      "Epoch 2: [25600/60000] Loss: 56.60762023925781\n",
      "Epoch 2: [32000/60000] Loss: 56.99581527709961\n",
      "Epoch 2: [38400/60000] Loss: 56.67818832397461\n",
      "Epoch 2: [44800/60000] Loss: 55.81159210205078\n",
      "Epoch 2: [51200/60000] Loss: 56.44465255737305\n",
      "Epoch 2: [57600/60000] Loss: 56.692893981933594\n",
      "Test result on epoch 2: Avg loss is 55.2372984375\n",
      "Epoch 3: [0/60000] Loss: 55.15708923339844\n",
      "Epoch 3: [6400/60000] Loss: 52.87691879272461\n",
      "Epoch 3: [12800/60000] Loss: 54.52256774902344\n",
      "Epoch 3: [19200/60000] Loss: 55.068328857421875\n",
      "Epoch 3: [25600/60000] Loss: 53.31861877441406\n",
      "Epoch 3: [32000/60000] Loss: 54.28974914550781\n",
      "Epoch 3: [38400/60000] Loss: 55.57716751098633\n",
      "Epoch 3: [44800/60000] Loss: 53.803550720214844\n",
      "Epoch 3: [51200/60000] Loss: 52.264068603515625\n",
      "Epoch 3: [57600/60000] Loss: 51.776878356933594\n",
      "Test result on epoch 3: Avg loss is 54.20693515625\n",
      "Epoch 4: [0/60000] Loss: 52.968231201171875\n",
      "Epoch 4: [6400/60000] Loss: 53.21308135986328\n",
      "Epoch 4: [12800/60000] Loss: 54.776058197021484\n",
      "Epoch 4: [19200/60000] Loss: 54.67904281616211\n",
      "Epoch 4: [25600/60000] Loss: 52.951393127441406\n",
      "Epoch 4: [32000/60000] Loss: 54.3814582824707\n",
      "Epoch 4: [38400/60000] Loss: 53.720664978027344\n",
      "Epoch 4: [44800/60000] Loss: 52.730873107910156\n",
      "Epoch 4: [51200/60000] Loss: 55.19859313964844\n",
      "Epoch 4: [57600/60000] Loss: 52.92451858520508\n",
      "Test result on epoch 4: Avg loss is 52.808526171875\n",
      "Epoch 5: [0/60000] Loss: 53.2712516784668\n",
      "Epoch 5: [6400/60000] Loss: 53.77146911621094\n",
      "Epoch 5: [12800/60000] Loss: 51.266944885253906\n",
      "Epoch 5: [19200/60000] Loss: 52.18110275268555\n",
      "Epoch 5: [25600/60000] Loss: 50.52128601074219\n",
      "Epoch 5: [32000/60000] Loss: 51.484527587890625\n",
      "Epoch 5: [38400/60000] Loss: 53.08830261230469\n",
      "Epoch 5: [44800/60000] Loss: 52.55160140991211\n",
      "Epoch 5: [51200/60000] Loss: 50.281036376953125\n",
      "Epoch 5: [57600/60000] Loss: 51.20201110839844\n",
      "Test result on epoch 5: Avg loss is 50.580192578125\n",
      "Epoch 6: [0/60000] Loss: 51.29891586303711\n",
      "Epoch 6: [6400/60000] Loss: 49.37963104248047\n",
      "Epoch 6: [12800/60000] Loss: 50.31613540649414\n",
      "Epoch 6: [19200/60000] Loss: 50.44084930419922\n",
      "Epoch 6: [25600/60000] Loss: 48.00575256347656\n",
      "Epoch 6: [32000/60000] Loss: 48.26483917236328\n",
      "Epoch 6: [38400/60000] Loss: 48.90995788574219\n",
      "Epoch 6: [44800/60000] Loss: 50.02070236206055\n",
      "Epoch 6: [51200/60000] Loss: 48.256195068359375\n",
      "Epoch 6: [57600/60000] Loss: 48.70905303955078\n",
      "Test result on epoch 6: Avg loss is 49.35772890625\n",
      "Epoch 7: [0/60000] Loss: 50.47313690185547\n",
      "Epoch 7: [6400/60000] Loss: 49.11894607543945\n",
      "Epoch 7: [12800/60000] Loss: 49.610836029052734\n",
      "Epoch 7: [19200/60000] Loss: 48.50770568847656\n",
      "Epoch 7: [25600/60000] Loss: 48.494850158691406\n",
      "Epoch 7: [32000/60000] Loss: 47.73537063598633\n",
      "Epoch 7: [38400/60000] Loss: 47.419044494628906\n",
      "Epoch 7: [44800/60000] Loss: 47.500545501708984\n",
      "Epoch 7: [51200/60000] Loss: 47.07558059692383\n",
      "Epoch 7: [57600/60000] Loss: 48.960445404052734\n",
      "Test result on epoch 7: Avg loss is 47.461279296875\n",
      "Epoch 8: [0/60000] Loss: 47.21442413330078\n",
      "Epoch 8: [6400/60000] Loss: 47.29055404663086\n",
      "Epoch 8: [12800/60000] Loss: 46.67693328857422\n",
      "Epoch 8: [19200/60000] Loss: 48.104225158691406\n",
      "Epoch 8: [25600/60000] Loss: 47.79911422729492\n",
      "Epoch 8: [32000/60000] Loss: 48.431758880615234\n",
      "Epoch 8: [38400/60000] Loss: 44.28082275390625\n",
      "Epoch 8: [44800/60000] Loss: 46.099605560302734\n",
      "Epoch 8: [51200/60000] Loss: 44.58497619628906\n",
      "Epoch 8: [57600/60000] Loss: 49.61627960205078\n",
      "Test result on epoch 8: Avg loss is 46.349707421875\n",
      "Epoch 9: [0/60000] Loss: 48.514892578125\n",
      "Epoch 9: [6400/60000] Loss: 45.90409851074219\n",
      "Epoch 9: [12800/60000] Loss: 46.92616653442383\n",
      "Epoch 9: [19200/60000] Loss: 45.118675231933594\n",
      "Epoch 9: [25600/60000] Loss: 44.8077392578125\n",
      "Epoch 9: [32000/60000] Loss: 46.14271545410156\n",
      "Epoch 9: [38400/60000] Loss: 46.43013000488281\n",
      "Epoch 9: [44800/60000] Loss: 45.412071228027344\n",
      "Epoch 9: [51200/60000] Loss: 44.32427978515625\n",
      "Epoch 9: [57600/60000] Loss: 42.95733642578125\n",
      "Test result on epoch 9: Avg loss is 44.86010859375\n",
      "Epoch 10: [0/60000] Loss: 45.209163665771484\n",
      "Epoch 10: [6400/60000] Loss: 46.65991973876953\n",
      "Epoch 10: [12800/60000] Loss: 45.74382019042969\n",
      "Epoch 10: [19200/60000] Loss: 43.63385772705078\n",
      "Epoch 10: [25600/60000] Loss: 46.00104904174805\n",
      "Epoch 10: [32000/60000] Loss: 46.00840377807617\n",
      "Epoch 10: [38400/60000] Loss: 44.880130767822266\n",
      "Epoch 10: [44800/60000] Loss: 44.15233612060547\n",
      "Epoch 10: [51200/60000] Loss: 44.718631744384766\n",
      "Epoch 10: [57600/60000] Loss: 44.1828498840332\n",
      "Test result on epoch 10: Avg loss is 44.2049125\n",
      "torch.Size([1000, 1, 28, 28]) torch.Size([1000, 1, 28, 28])\n"
     ]
    },
    {
     "data": {
      "image/png": "[encoded data removed]",
      "text/plain": [
       "<Figure size 864x576 with 9 Axes>"
      ]
     },
     "metadata": {
      "needs_background": "light"
     },
     "output_type": "display_data"
    }
   ],
   "source": [
    "###########################   <YOUR CODE>  ############################\n",
    "import torch.nn as nn\n",
    "import torch.nn.functional as F\n",
    "import torch.optim as optim\n",
    "\n",
    "device = 'cuda' if torch.cuda.is_available()==True else 'cpu'\n",
    "device = torch.device(device)\n",
    "\n",
    "\n",
    "#  <----------------------------- 1 ----------------------------->\n",
    "\n",
    "class our_AE(nn.Module):\n",
    "  def __init__(self):\n",
    "    super(our_AE, self).__init__()\n",
    "\n",
    "    # encoder\n",
    "    self.en_fc1 = nn.Linear(in_features=784, out_features=64)\n",
    "    self.en_fc5 = nn.Linear(in_features=64,out_features=32)\n",
    "    self.en_fc6 = nn.Linear(in_features=32,out_features=16)\n",
    "\n",
    "    # decoder\n",
    "    self.de_fc1 = nn.Linear(in_features=16,out_features=32)\n",
    "    self.de_fc2 = nn.Linear(in_features=32, out_features=64)\n",
    "    self.de_fc6 = nn.Linear(in_features=64, out_features=784)\n",
    "\n",
    "\n",
    "  def forward(self, x):\n",
    "\n",
    "    # encoding layers\n",
    "    x = x.view(-1, 784)\n",
    "    x = F.relu(self.en_fc1(x))\n",
    "    x = F.relu(self.en_fc5(x))\n",
    "    x = F.relu(self.en_fc6(x))\n",
    "\n",
    "    # decoding layers\n",
    "    x = F.relu(self.de_fc1(x))\n",
    "    x = F.relu(self.de_fc2(x))\n",
    "    x = torch.sigmoid(self.de_fc6(x))\n",
    "    x = x.view(-1, 1, 28, 28)\n",
    "    return x\n",
    "\n",
    "\n",
    "#  <----------------------------- 2 ----------------------------->\n",
    "\n",
    "\n",
    "AE = our_AE().to(device)\n",
    "optimizer = optim.Adam(AE.parameters(), lr=1e-4)\n",
    "loss_fn = nn.MSELoss(reduction='sum')\n",
    "\n",
    "\n",
    "#  <----------------------------- 3 ----------------------------->\n",
    "\n",
    "def train(epoch, device):\n",
    "\n",
    "  AE.train() # we need to set the mode for our model\n",
    "\n",
    "  for batch_idx, (images,_) in enumerate(train_loader): # Note that we do not need the labels\n",
    "\n",
    "    images = images[0]\n",
    "    optimizer.zero_grad()\n",
    "    images = images.to(device)\n",
    "    output = AE(images)\n",
    "    loss = loss_fn(output, images) # Here is a typical loss function (Mean square error)\n",
    "    loss.backward()\n",
    "    optimizer.step()\n",
    "\n",
    "    if batch_idx % 10 == 0: # We record our output every 10 batches\n",
    "      train_losses.append(loss.item()/batch_size_train) # item() is to get the value of the tensor directly\n",
    "      train_counter.append(\n",
    "        (batch_idx*64) + ((epoch-1)*len(train_loader.dataset)))\n",
    "    if batch_idx % 100 == 0: # We visulize our output every 100 batches\n",
    "      print(f'Epoch {epoch}: [{batch_idx*len(images)}/{len(train_loader.dataset)}] Loss: {loss.item()/batch_size_train}')\n",
    "\n",
    "def test(epoch, device):\n",
    "\n",
    "  AE.eval() # we need to set the mode for our model\n",
    "\n",
    "  test_loss = 0\n",
    "  correct = 0\n",
    "\n",
    "  with torch.no_grad():\n",
    "    for images, _ in test_loader:\n",
    "      images = images[0]\n",
    "      images = images.to(device)\n",
    "      output = AE(images)\n",
    "      test_loss += loss_fn(output, images).item()\n",
    "  \n",
    "  test_loss /= len(test_loader.dataset)\n",
    "  test_losses.append(test_loss)\n",
    "  test_counter.append(len(train_loader.dataset)*epoch)\n",
    "\n",
    "  print(f'Test result on epoch {epoch}: Avg loss is {test_loss}')\n",
    "\n",
    "\n",
    "\n",
    "train_losses = []\n",
    "train_counter = []\n",
    "test_losses = []\n",
    "test_counter = []\n",
    "max_epoch = 10\n",
    "\n",
    "for epoch in range(1, max_epoch+1):\n",
    "  train(epoch, device=device)\n",
    "  test(epoch, device=device)\n",
    "\n",
    "\n",
    "\n",
    "#  <----------------------------- 4 ----------------------------->\n",
    "\n",
    "\n",
    "batch_idx, (images, _) = next(enumerate(test_loader))\n",
    "images = images[0]\n",
    "images = images.to(device)\n",
    "output = AE(images).cpu().detach()\n",
    "images = images.cpu()\n",
    "\n",
    "print(images.size(), output.size())\n",
    "\n",
    "\n",
    "\n",
    "#  Plot:\n",
    "_, (noisy, original) = next(enumerate(test_loader))\n",
    "\n",
    "fig,ax = plt.subplots(3,3)\n",
    "fig.set_size_inches(12,8)\n",
    "for idx in range(3):\n",
    "  ax[0,idx].imshow(original[0][idx][0], cmap='gray')\n",
    "  ax[0,idx].set_title(f'label is {original[1][idx]}')\n",
    "  ax[1,idx].imshow(noisy[0][idx][0], cmap='gray')\n",
    "  ax[2,idx].imshow(output[idx][0], cmap='gray')  \n",
    "fig.show()\n",
    "\n",
    "\n",
    "\n",
    "\n",
    "#########################  <END YOUR CODE>  ############################"
   ]
  },
  {
   "cell_type": "markdown",
   "metadata": {
    "id": "290mOBEHgEXr"
   },
   "source": [
    "## Exercise 2: Build a variational autoencoder(VAE) that can generate MNIST images (70 points)\n",
    "\n",
    "### Task 0: Setup\n",
    "1. Import necessary packages\n",
    "2. Load the MNIST data as above.\n",
    "3. Specify the device."
   ]
  },
  {
   "cell_type": "code",
   "execution_count": 105,
   "metadata": {
    "colab": {
     "base_uri": "https://localhost:8080/"
    },
    "executionInfo": {
     "elapsed": 5,
     "status": "ok",
     "timestamp": 1636086855118,
     "user": {
      "displayName": "Ahmad BIN Rabiah",
      "photoUrl": "https://lh3.googleusercontent.com/a/default-user=s64",
      "userId": "09793072170404114635"
     },
     "user_tz": 240
    },
    "id": "xd8vWof8nIHw",
    "outputId": "2adea400-c40f-4ef4-b4e1-e6801b59c37a"
   },
   "outputs": [
    {
     "name": "stdout",
     "output_type": "stream",
     "text": [
      "We are using device name \"cuda\"\n"
     ]
    }
   ],
   "source": [
    "###########################   <YOUR CODE>  ############################\n",
    "#  <----------------------------- 1 ----------------------------->\n",
    "import torchvision\n",
    "import torch\n",
    "import matplotlib.pyplot as plt\n",
    "import torch.nn as nn\n",
    "import torch.nn.functional as F\n",
    "import torch.optim as optim\n",
    "\n",
    "#################### Hyperparameters ####################\n",
    "learning_rate = 0.001 \n",
    "# weight_decay = 1e-5 \n",
    "batch_size_train, batch_size_test = 64, 1000\n",
    "epochs = 1\n",
    "\n",
    "#################### Load Dataset ####################\n",
    "#  <----------------------------- 2 ----------------------------->\n",
    "transform = torchvision.transforms.Compose([torchvision.transforms.ToTensor()]) \n",
    "\n",
    "train_dataset = torchvision.datasets.MNIST('data', train=True, download=True, transform=transform)\n",
    "test_dataset = torchvision.datasets.MNIST('data', train=False, download=True, transform=transform)\n",
    "\n",
    "train_loader = torch.utils.data.DataLoader(train_dataset, batch_size=batch_size_train, shuffle=True)\n",
    "test_loader = torch.utils.data.DataLoader(test_dataset, batch_size=batch_size_test, shuffle=False)\n",
    "\n",
    "\n",
    "#################### Assign to GPU ####################\n",
    "#  <----------------------------- 3 ----------------------------->\n",
    "device = 'cuda' if torch.cuda.is_available()==True else 'cpu'\n",
    "device = torch.device(device)\n",
    "print(f'We are using device name \"{device}\"')\n",
    "\n",
    "\n",
    "\n",
    "\n",
    "\n",
    "#########################  <END YOUR CODE>  ############################"
   ]
  },
  {
   "cell_type": "markdown",
   "metadata": {
    "id": "oYskA84daTnl"
   },
   "source": [
    "### Task 1: VAE Loss function\n",
    "Construct your loss function. The loss function for VAE is a little bit difficult:\n",
    "$$\n",
    "\\begin{aligned}\n",
    "\\textbf{NegativeELBO}(x, g, f) &= \\mathbb{E}_{q_f}[-\\log p_g(x|z)] + KL(q_f(z|x), p_g(z))\\\\\n",
    " &= \\text{ReconstructionLoss} + \\text{Regularizer}\n",
    "\\end{aligned}\n",
    "$$\n",
    "In this exercise, you will build the VAE (variational autoencoder) model satisfying following conditions which simplifies the computation of loss function:\n",
    "1. $p_g(z)$ is a standard normal distribution.\n",
    "2. $q_f(z|x)$ is a multivariate Gaussian with trainable mean and variance along each dimension.\n",
    "3. The output distribution of the decoder is an independent Bernoulli distribution for every pixel value since the values are between 0 and 1.\n",
    "\n",
    "While we discussed the Gaussian distribution in class, here we assume the output distribution of the decoder is an independent Bernoulli distribution for every pixel value since the values are between 0 and 1.\n",
    "The value of the pixel corresponds to the average of the Bernoulli distribution.\n",
    "This loss can be seen in Appendix C.1 of the original VAE paper: https://arxiv.org/pdf/1312.6114.pdf.\n",
    "With such assumpition, the reconstruction loss can be calculated using the binary-cross-entropy loss between the original images and the output of the VAE.\n",
    "See [torch.nn.functional.binary_cross_entropy](https://pytorch.org/docs/stable/nn.functional.html#binary-cross-entropy).\n",
    "You should use the sum reduction of the loss to sum the loss over all the pixels. \n",
    "\n",
    "The second part is the KL-Divergence between your model's approximate posterier $q_f(z|x)$ and the model prior $p_g(z)$.\n",
    "If we assume $p_g(z)$ is a standard normal distribution and $q_f(z|x)$ is a Gaussian with unknown mean and variance, then this KL divergence can be computed in closed form (see Appendix B of original VAE paper above):\n",
    "$KL(q_f(z|x), p_g(z)) = -\\frac{1}{2}\\sum_{j=1}^d(1+\\log(\\sigma_j^2)-\\mu_j^2-\\sigma_j^2)$. \n",
    "\n",
    "\n",
    "Your task here is to write a function `vae_loss` that takes the value of your model's output, the original images, mu, and log_var (i.e., the $\\log(\\sigma_j^2)$ term), and returns the the reconstruction loss and the KL loss terms **separately** (i.e., the function should return two loss arrays). To visualize these losses separately in a later task, you will need the reconstruction loss and KL loss separated.\n"
   ]
  },
  {
   "cell_type": "code",
   "execution_count": 106,
   "metadata": {
    "executionInfo": {
     "elapsed": 5,
     "status": "ok",
     "timestamp": 1636086855556,
     "user": {
      "displayName": "Ahmad BIN Rabiah",
      "photoUrl": "https://lh3.googleusercontent.com/a/default-user=s64",
      "userId": "09793072170404114635"
     },
     "user_tz": 240
    },
    "id": "oHShuMq5dJOE"
   },
   "outputs": [],
   "source": [
    "def vae_loss(output, mu, log_var, images):\n",
    "  \"\"\"\n",
    "  :param output: this the output of your neural network\n",
    "  :param mu: this is the mu from the latent space\n",
    "  :param log_var: this is the log_var from the latent space\n",
    "  :param images: this is the original sets of images\n",
    "  \"\"\"\n",
    "  ###########################   <YOUR CODE>  ############################\n",
    "\n",
    "  # Part 1: ReconstructionLoss\n",
    "  ReconstructionLoss = F.binary_cross_entropy(input=output.view(-1, 28*28), target=images.view(-1, 28*28), reduction='sum')\n",
    "\n",
    "  # Part 2: Regularizer\n",
    "  Regularizer = -0.5 * torch.sum(1 + log_var - mu.pow(2) - log_var.exp())\n",
    "\n",
    "\n",
    "\n",
    "  return ReconstructionLoss, Regularizer\n",
    "\n",
    "  #########################  <END YOUR CODE>  ############################\n"
   ]
  },
  {
   "cell_type": "markdown",
   "metadata": {
    "id": "KtRaZjtp-pEM"
   },
   "source": [
    "### Task 2: VAE model\n",
    "Build the VAE (variational autoencoder) model based on the instructions given below and in the comments.\n",
    "* Inside the `reparameterize` function you job is to output a latent vector. You should first calculate the standard deviation `std` from the log variance variable `log_var` (i.e., compute $\\sigma$ from $\\log (\\sigma^2)$, then generate the vector in Gaussian distribution with `mu` and `std`.  **Importantly**, this should use the reparametrization trick so that we can backpropagate through this random step.\n",
    "\n",
    "* Inside the `forward` function you should extract the `mu` and `log_var` from the latent representation after the encoder. The output of encoder should be in the dimension ` [batch_size x 2 x latent_feature]`, which includes a mean and log variance for each latent feature and for each instance in the batch.  Remember that in VAEs, the encoder outputs the parameters of the latent distribution. Note that the second dimension has value 2, so you need to split this tensor into two components, one called `mu` and the other called `log_var`---which will be fed into reparameterize.\n",
    "\n"
   ]
  },
  {
   "cell_type": "code",
   "execution_count": 82,
   "metadata": {
    "executionInfo": {
     "elapsed": 521,
     "status": "ok",
     "timestamp": 1636083740490,
     "user": {
      "displayName": "Ahmad BIN Rabiah",
      "photoUrl": "https://lh3.googleusercontent.com/a/default-user=s64",
      "userId": "09793072170404114635"
     },
     "user_tz": 240
    },
    "id": "I-BxB-qYBWQv"
   },
   "outputs": [],
   "source": [
    "import torch\n",
    "import torch.nn as nn\n",
    "import torch.nn.functional as F\n",
    "import torch.optim as optim\n",
    "from torchvision import datasets, transforms\n",
    "\n",
    "\n",
    "class our_VAE(nn.Module):\n",
    "  def __init__(self, latent_feature = 16): # you can use any number of latent features you want in the training\n",
    "    super(our_VAE, self).__init__()\n",
    "\n",
    "    self.latent_feature = latent_feature\n",
    "\n",
    "    ###########################   <YOUR CODE>  ############################\n",
    "\n",
    "\n",
    "    # Encoding\n",
    "    self.e_input2hidden = nn.Linear(in_features=784, out_features=500)\n",
    "    self.e_hidden2mean = nn.Linear(in_features=500, out_features=latent_feature)\n",
    "    self.e_hidden2logvar = nn.Linear(in_features=500, out_features=latent_feature)\n",
    "\n",
    "    # Decoding\n",
    "    self.d_latent2hidden = nn.Linear(in_features=latent_feature, out_features=500)\n",
    "    self.d_hidden2image = nn.Linear(in_features=500, out_features=784)\n",
    "    #########################  <END YOUR CODE>  ############################\n",
    "\n",
    "\n",
    "  def reparameterize(self, mu, log_var):\n",
    "    \"\"\"\n",
    "    :param mu: mean from the latent space\n",
    "    :param log_var: the log variance from the latent space\n",
    "\n",
    "    You should return a sample with gaussian distribution N(mu, var) using \n",
    "    the reparameterization trick.\n",
    "    \"\"\"\n",
    "\n",
    "\n",
    "    ###########################   <YOUR CODE>  ############################\n",
    "\n",
    "    std = torch.exp(log_var/2)\n",
    "    eps = torch.randn_like(std)\n",
    "    sample = mu + eps*std\n",
    "    \n",
    "\n",
    "    #########################  <END YOUR CODE>  ############################\n",
    "    return sample\n",
    "\n",
    "  def encoder(self, x):\n",
    "    \"\"\"\n",
    "    :param x: input distribution\n",
    "\n",
    "    You should first compute the parameters mu and log_var for Gaussian distribution q(z|x), and \n",
    "    then get samples from q(z|x) using the reparameterize function you just created.\n",
    "    The final output should include mu, log_var and z~q(z|x)\n",
    "    \"\"\"\n",
    "    ###########################   <YOUR CODE>  ############################\n",
    "\n",
    "    x = x.view(-1, 784)\n",
    "    x = F.relu(self.e_input2hidden(x))\n",
    "    mu, log_var = self.e_hidden2mean(x), self.e_hidden2logvar(x)\n",
    "\n",
    "    z = self.reparameterize(mu,log_var)\n",
    "\n",
    "\n",
    "    #########################  <END YOUR CODE>  ###########################\n",
    "\n",
    "    return mu, log_var, z\n",
    "\n",
    "  def decoder(self, z):\n",
    "    \"\"\"\n",
    "    :param z: latent distribution\n",
    "\n",
    "    You should compute the output x given latent samples z\n",
    "    \"\"\"\n",
    "\n",
    "    ###########################   <YOUR CODE>  ############################\n",
    "\n",
    "    x = F.relu(self.d_latent2hidden(z))\n",
    "    x = torch.sigmoid(self.d_hidden2image(x))\n",
    "\n",
    "\n",
    "    #########################  <END YOUR CODE>  ###########################\n",
    "    return x\n",
    "\n",
    "\n",
    "  \n",
    "  def forward(self, x):\n",
    "    \"\"\"\n",
    "    :param x: input variables\n",
    "\n",
    "    You should compute the output images using the encoder and decoder you just defined.\n",
    "    Remember to return the mu and log_var for the computation of loss.\n",
    "    \"\"\"\n",
    "\n",
    "    ###########################   <YOUR CODE>  ############################\n",
    "\n",
    "    mu, log_var, z = self.encoder(x)\n",
    "    x = self.decoder(z)\n",
    "\n",
    "\n",
    "    #########################  <END YOUR CODE>  ###########################\n",
    "\n",
    "    \n",
    "    return x, mu, log_var"
   ]
  },
  {
   "cell_type": "markdown",
   "metadata": {
    "id": "vvSUZtwcd4jx"
   },
   "source": [
    "### Task 3: Train and visualize output\n",
    "1. Train your model with an appropriate optimizer and the above loss function. You should train your model with enough epochs so that your loss reaches a relatively steady value.\n",
    "\n",
    "2. Visualize your result. You should **show three pairs of images** where each pair consists of an original test image and its VAE reconstructed version.\n",
    "\n",
    "3. Keep track of the loss. You should save the negative ELBO, Reconstruction Loss and KL Divergence Loss after every 10 batches in the trainining and **create a plot with three curves** using [matplotlib.pyplot.plot](https://matplotlib.org/stable/api/_as_gen/matplotlib.pyplot.plot.html). Each curve should correpond to one of the losses. The x-axis will be the number of batches divided by 10 and the y-axis will be the loss. **Make sure you clearly specify the legend, x-label and y-label.**\n",
    "\n",
    "**Note:** It is always a good idea to keep track of the loss in the process of training to help you understand what is happening during training."
   ]
  },
  {
   "cell_type": "code",
   "execution_count": 107,
   "metadata": {
    "colab": {
     "base_uri": "https://localhost:8080/",
     "height": 1000
    },
    "executionInfo": {
     "elapsed": 14852,
     "status": "ok",
     "timestamp": 1636086870404,
     "user": {
      "displayName": "Ahmad BIN Rabiah",
      "photoUrl": "https://lh3.googleusercontent.com/a/default-user=s64",
      "userId": "09793072170404114635"
     },
     "user_tz": 240
    },
    "id": "oKHOYLYldYC7",
    "outputId": "dc05583e-260b-471a-cc04-34de05d021ec"
   },
   "outputs": [
    {
     "name": "stdout",
     "output_type": "stream",
     "text": [
      "Epoch 1: [0/60000] Loss: 548.5110473632812\n",
      "Epoch 1: [6400/60000] Loss: 190.29266357421875\n",
      "Epoch 1: [12800/60000] Loss: 146.05996704101562\n",
      "Epoch 1: [19200/60000] Loss: 137.87228393554688\n",
      "Epoch 1: [25600/60000] Loss: 124.74881744384766\n",
      "Epoch 1: [32000/60000] Loss: 135.2696533203125\n",
      "Epoch 1: [38400/60000] Loss: 116.91519165039062\n",
      "Epoch 1: [44800/60000] Loss: 119.96745300292969\n",
      "Epoch 1: [51200/60000] Loss: 121.9948959350586\n",
      "Epoch 1: [57600/60000] Loss: 121.57858276367188\n",
      "Epoch 2: [0/60000] Loss: 117.5045394897461\n",
      "Epoch 2: [6400/60000] Loss: 121.43583679199219\n",
      "Epoch 2: [12800/60000] Loss: 109.6142578125\n",
      "Epoch 2: [19200/60000] Loss: 114.62559509277344\n",
      "Epoch 2: [25600/60000] Loss: 119.38723754882812\n",
      "Epoch 2: [32000/60000] Loss: 111.15480041503906\n",
      "Epoch 2: [38400/60000] Loss: 113.73797607421875\n",
      "Epoch 2: [44800/60000] Loss: 120.84281158447266\n",
      "Epoch 2: [51200/60000] Loss: 114.20442962646484\n",
      "Epoch 2: [57600/60000] Loss: 112.26768493652344\n"
     ]
    },
    {
     "data": {
      "image/png": "[encoded data removed]",
      "text/plain": [
       "<Figure size 864x576 with 6 Axes>"
      ]
     },
     "metadata": {
      "needs_background": "light"
     },
     "output_type": "display_data"
    },
    {
     "data": {
      "image/png": "[encoded data removed]",
      "text/plain": [
       "<Figure size 432x288 with 1 Axes>"
      ]
     },
     "metadata": {
      "needs_background": "light"
     },
     "output_type": "display_data"
    }
   ],
   "source": [
    "###########################   <YOUR CODE>  ############################\n",
    "import torchvision\n",
    "# import torch\n",
    "import matplotlib.pyplot as plt\n",
    "import torch.nn as nn\n",
    "import torch.nn.functional as F\n",
    "import torch.optim as optim\n",
    "import numpy as np\n",
    "import random\n",
    "\n",
    "#  <----------------------------- 1 ----------------------------->\n",
    "\n",
    "#################### Initilize Optimizer ####################\n",
    "vae = our_VAE()\n",
    "vae = vae.to(device)\n",
    "optimizer = optim.Adam(params=vae.parameters(), lr=learning_rate)\n",
    "\n",
    "\n",
    "#################### Training Phase ####################\n",
    "\n",
    "negative_elbo = []\n",
    "reconstruction_loss = []\n",
    "kl_divergence_loss = []\n",
    "\n",
    "\n",
    "for epoch in range(epochs+1):\n",
    "    current_batch = 0\n",
    "    for idx, data in enumerate(train_loader, 0):\n",
    "        imgs, _ = data\n",
    "        imgs = imgs.to(device)\n",
    "        \n",
    "        reconstructions, mu, log_var = vae(imgs)\n",
    "\n",
    "        ReconstructionLoss, Regularizer = vae_loss(reconstructions, mu, log_var, imgs)\n",
    "        loss = ReconstructionLoss + Regularizer\n",
    "\n",
    "        optimizer.zero_grad()\n",
    "        loss.backward()\n",
    "        optimizer.step()\n",
    "\n",
    "\n",
    "\n",
    "        if idx % 10 == 0:\n",
    "          # We record our output every 10 batches\n",
    "        \n",
    "          negative_elbo.append(loss.item()/batch_size_train)\n",
    "          reconstruction_loss.append(ReconstructionLoss/batch_size_train)\n",
    "          kl_divergence_loss.append(Regularizer/batch_size_train)\n",
    "\n",
    "\n",
    "        if idx % 100 == 0:\n",
    "         # We visulize our output every 100 batches\n",
    "          print(f'Epoch {epoch+1}: [{idx*len(imgs)}/{len(train_loader.dataset)}] Loss: {loss.item()/batch_size_train}')\n",
    "\n",
    "\n",
    "#  <----------------------------- 2 ----------------------------->\n",
    "\n",
    "#################### Visualizing results ####################\n",
    "\n",
    "vae.eval()\n",
    "i = 0\n",
    "with torch.no_grad():\n",
    "    fig,ax = plt.subplots(2,3)\n",
    "    fig.set_size_inches(12,8)\n",
    "\n",
    "    data = random.sample(list(test_loader), 1)\n",
    "    for data in random.sample(list(test_loader), 1):\n",
    "      imgs, label = data\n",
    "      imgs = imgs.to(device)\n",
    "      img_0 = np.transpose(imgs[0].cpu().numpy(), [1,2,0])\n",
    "      img_1 = np.transpose(imgs[1].cpu().numpy(), [1,2,0])\n",
    "      img_2 = np.transpose(imgs[2].cpu().numpy(), [1,2,0])\n",
    "\n",
    "      out, mu, logVAR = vae(imgs)\n",
    "      outimg_0 = out[0].cpu().reshape(28,28)\n",
    "      outimg_1 = out[1].cpu().reshape(28,28)\n",
    "      outimg_2 = out[2].cpu().reshape(28,28)\n",
    "\n",
    "      \n",
    "\n",
    "      ax[0,0].imshow(np.squeeze(img_0),cmap='gray')\n",
    "      ax[0,0].set_title(f'label is {label[0]}')\n",
    "\n",
    "      ax[1,0].imshow(outimg_0, cmap='gray')\n",
    "      ax[1,0].set_title(f'label is {label[0]}')\n",
    "\n",
    "      ax[0,1].imshow(np.squeeze(img_1),cmap='gray')\n",
    "      ax[0,1].set_title(f'label is {label[1]}')\n",
    "\n",
    "      ax[1,1].imshow(outimg_1, cmap='gray')\n",
    "      ax[1,1].set_title(f'label is {label[1]}')      \n",
    "\n",
    "      ax[0,2].imshow(np.squeeze(img_2),cmap='gray')\n",
    "      ax[0,2].set_title(f'label is {label[2]}')\n",
    "\n",
    "      ax[1,2].imshow(outimg_2, cmap='gray')\n",
    "      ax[1,2].set_title(f'label is {label[2]}')\n",
    "\n",
    "    fig.show() \n",
    "\n",
    "\n",
    "#  <----------------------------- 3 ----------------------------->\n",
    "\n",
    "#################### Losses Plot ####################\n",
    "\n",
    "losses_fig = plt.figure(2)\n",
    "plt.plot(np.arange(len(negative_elbo))*10, negative_elbo)\n",
    "plt.plot(np.arange(len(reconstruction_loss))*10, reconstruction_loss)\n",
    "plt.plot(np.arange(len(kl_divergence_loss))*10, kl_divergence_loss)\n",
    "plt. title ( 'Batch vs. Losses')\n",
    "plt. ylabel ('loss')\n",
    "plt.xlabel ('Batches')\n",
    "plt. legend (['Negative ELBO', 'Reconstruction Loss', 'KL Divergence Loss'], loc='upper right')\n",
    "plt.show()\n",
    "\n",
    "#########################  <END YOUR CODE>  ###########################\n"
   ]
  },
  {
   "cell_type": "markdown",
   "metadata": {
    "id": "uzgIFsux2wu3"
   },
   "source": [
    "### Task 4.1: Latent space of VAE"
   ]
  },
  {
   "cell_type": "markdown",
   "metadata": {
    "id": "ojuYyCpvVjeV"
   },
   "source": [
    "The latent space will change over time during training as the networks learn which features of the input are most important.  In the beginning, the reconstruction error will be poor and the latent space will be mixed up (i.e., it has not identified good features for dimensionality reduction and then reconstruction).  However, as it continues to train, the space will begin to show some structure (similar to in PCA) as it finds features that enable good reconstruction even after adding a little noise. Therefore, to get some intuition about this process, in this task, you will visualize how latent space changes in the process of training with the given function ``plot_latent``.\n",
    "\n",
    "1. For better visualization, create a VAE with ``latent_features=2``.\n",
    "2. Similar to task 3, train the VAE for a few epochs. But you will need to plot the latent distribution using the provided ``plot_latent`` function below at initialization (so you can see what the latent space looks like at initialization) AND after **each** epoch. You should use the **test** data for plotting this visualization task.\n"
   ]
  },
  {
   "cell_type": "code",
   "execution_count": null,
   "metadata": {
    "id": "Mojv6PtOVwKy"
   },
   "outputs": [],
   "source": [
    "def plot_latent(vae, data_loader, num_batches=2):\n",
    "  with torch.no_grad():\n",
    "    for ibx, (images,label) in enumerate(data_loader):\n",
    "      _,_,z = vae.encoder(images)\n",
    "      z = z.to('cpu').detach().numpy()\n",
    "      plt.scatter(z[:, 0], z[:, 1], c=label, cmap='tab10',s=1)\n",
    "      if ibx > num_batches:\n",
    "        break\n",
    "  plt.colorbar()\n",
    "  plt.show()"
   ]
  },
  {
   "cell_type": "code",
   "execution_count": null,
   "metadata": {
    "id": "61B8beRcMSM0"
   },
   "outputs": [],
   "source": [
    "###########################   <YOUR CODE>  ############################\n",
    "\n",
    "#########################  <END YOUR CODE>  ###########################"
   ]
  },
  {
   "cell_type": "markdown",
   "metadata": {
    "id": "6t8USlTaWuyH"
   },
   "source": [
    "### Task 4.2 Interpolation of latent space\n",
    "\n",
    "Interpolation can be quite useful for autoencoder models. For example, by linearly interpolating (or mixing) codes in latent space and decoding the result, the autoencoder can produce a more **semantically meaningful**\n",
    "combination of the corresponding datapoints than linear interpolation in the raw pixel space. \n",
    "Besides, in some cases, interpolation experiments can show that the model has learned a latent space with a particular structure. Specifically, if interpolation between points in the latent space shows a smooth semantic warping in the original image space, then the visualization may suggest that similar points are semantically clustered in the latent space.\n",
    "\n",
    "In this task, you will do a simple experiment to see the difference between linear interpolation in the latent space and the original data space (raw pixels).\n",
    "1. With a trained model and test data, sample one $z\\sim q(z|x)$ corresponding to label 0 and 1 separately (two samples in total); this can be done by passing test samples (with labels 0 and 1 respectively) through the encoder. These two latent samples will be denoted $z_0$ and $z_1$ respectively.\n",
    "\n",
    "2. Compute the linear interpolation of $x_0$ and $x_1$ in the following way: $x'=\\alpha x_1 + (1-\\alpha)x_0$ where $\\alpha = 0, 0.1, 0.2, \\dots, 0.9, 1.0$. **Plot** all $x'$ images you get in a 1x11 grid.\n",
    "\n",
    "3. Compute the latent linear interpolation of $z_0$ and $z_1$ to get $z'$ in a similar way. Then, reconstruct the $x'$ corresponding to each $z'$ using the decoder. **Plot** all $x'$ images you get in a 1x11 grid."
   ]
  },
  {
   "cell_type": "code",
   "execution_count": null,
   "metadata": {
    "id": "hYIIEV24PcP3"
   },
   "outputs": [],
   "source": [
    "###########################   <YOUR CODE>  ############################\n",
    "\n",
    "#########################  <END YOUR CODE>  ###########################"
   ]
  },
  {
   "cell_type": "code",
   "execution_count": null,
   "metadata": {
    "id": "Ftjmg7smZ-ut"
   },
   "outputs": [],
   "source": []
  }
 ],
 "metadata": {
  "accelerator": "GPU",
  "colab": {
   "collapsed_sections": [],
   "name": "Assignment_06_Exercise.ipynb",
   "provenance": []
  },
  "kernelspec": {
   "display_name": "Python 3",
   "language": "python",
   "name": "python3"
  },
  "language_info": {
   "codemirror_mode": {
    "name": "ipython",
    "version": 3
   },
   "file_extension": ".py",
   "mimetype": "text/x-python",
   "name": "python",
   "nbconvert_exporter": "python",
   "pygments_lexer": "ipython3",
   "version": "3.7.4"
  }
 },
 "nbformat": 4,
 "nbformat_minor": 1
}
